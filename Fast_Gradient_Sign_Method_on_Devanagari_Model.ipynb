{
  "nbformat": 4,
  "nbformat_minor": 0,
  "metadata": {
    "colab": {
      "name": "Fast Gradient Sign Method on Devanagari Model.ipynb",
      "provenance": [],
      "mount_file_id": "1cxXCCYBVp4pWTv7tfKCWErVaDHcgGDoW",
      "authorship_tag": "ABX9TyM3UpbuJGey62W3JMBEaNdJ",
      "include_colab_link": true
    },
    "kernelspec": {
      "name": "python3",
      "display_name": "Python 3"
    },
    "language_info": {
      "name": "python"
    }
  },
  "cells": [
    {
      "cell_type": "markdown",
      "metadata": {
        "id": "view-in-github",
        "colab_type": "text"
      },
      "source": [
        "<a href=\"https://colab.research.google.com/github/neesarg123/Devanagari-Letters-DL/blob/main/Fast_Gradient_Sign_Method_on_Devanagari_Model.ipynb\" target=\"_parent\"><img src=\"https://colab.research.google.com/assets/colab-badge.svg\" alt=\"Open In Colab\"/></a>"
      ]
    },
    {
      "cell_type": "markdown",
      "source": [
        "## One Sentence Goal:\n",
        "- Measure robustness of the model.\n",
        "\n",
        "## Methodology:\n",
        "- Use a Fast Gradient Sign Method (FSGM):\n",
        "  - Basic Function: Computes and adds a noise vector (same in shape as input image) to the input that maximizes the prediction loss. \n"
      ],
      "metadata": {
        "id": "_-nfgPVWbUm5"
      }
    },
    {
      "cell_type": "code",
      "execution_count": null,
      "metadata": {
        "id": "2jMbVDznbBys"
      },
      "outputs": [],
      "source": [
        "import tensorflow as tf\n",
        "import matplotlib as mpl\n",
        "import matplotlib.pyplot as plt\n",
        "from tensorflow import keras\n",
        "import numpy as np\n",
        "from PIL import Image\n",
        "import os "
      ]
    },
    {
      "cell_type": "code",
      "source": [
        "if not os.path.isdir('/content/Dataset'):\n",
        "   !unzip \"/content/drive/MyDrive/Devanagari Letters/DevanagariHandwrittenCharacterDataset.zip\" -d \"/content/Dataset/\""
      ],
      "metadata": {
        "id": "TMGZSxpNeAFG"
      },
      "execution_count": null,
      "outputs": []
    },
    {
      "cell_type": "markdown",
      "source": [
        "## Load in Our Model"
      ],
      "metadata": {
        "id": "VTh4bOQicePj"
      }
    },
    {
      "cell_type": "code",
      "source": [
        "model = keras.models.load_model('/content/drive/MyDrive/Model')"
      ],
      "metadata": {
        "id": "2FjVWp3Fch6J"
      },
      "execution_count": 24,
      "outputs": []
    },
    {
      "cell_type": "markdown",
      "source": [
        "## Using a Test Image for Example"
      ],
      "metadata": {
        "id": "g-BvreR9ddKf"
      }
    },
    {
      "cell_type": "code",
      "source": [
        "class_names = ['character_10_yna',\n",
        "               'character_11_taamatar',\n",
        "               'character_12_thaa',\n",
        "               'character_13_daa',\n",
        "               'character_14_dhaa',\n",
        "               'character_15_adna',\n",
        "               'character_16_tabala',\n",
        "               'character_17_tha',\n",
        "               'character_18_da',\n",
        "               'character_19_dha',\n",
        "               'character_1_ka',\n",
        "               'character_20_na',\n",
        "               'character_21_pa',\n",
        "               'character_22_pha',\n",
        "               'character_23_ba',\n",
        "               'character_24_bha',\n",
        "               'character_25_ma',\n",
        "               'character_26_yaw',\n",
        "               'character_27_ra',\n",
        "               'character_28_la',\n",
        "               'character_29_waw',\n",
        "               'character_2_kha',\n",
        "               'character_30_motosaw',\n",
        "               'character_31_petchiryakha',\n",
        "               'character_32_patalosaw',\n",
        "               'character_33_ha',\n",
        "               'character_34_chhya',\n",
        "               'character_35_tra',\n",
        "               'character_36_gya',\n",
        "               'character_3_ga',\n",
        "               'character_4_gha',\n",
        "               'character_5_kna',\n",
        "               'character_6_cha',\n",
        "               'character_7_chha',\n",
        "               'character_8_ja',\n",
        "               'character_9_jha',\n",
        "               'digit_0',\n",
        "               'digit_1',\n",
        "               'digit_2',\n",
        "               'digit_3',\n",
        "               'digit_4',\n",
        "               'digit_5',\n",
        "               'digit_6',\n",
        "               'digit_7',\n",
        "               'digit_8',\n",
        "               'digit_9']"
      ],
      "metadata": {
        "id": "LP1QyjzoeluU"
      },
      "execution_count": 25,
      "outputs": []
    },
    {
      "cell_type": "code",
      "source": [
        "test_img_path = input(\"Enter path of test image: \")\n",
        "\n",
        "img = Image.open(test_img_path)\n",
        "img_array = tf.keras.utils.img_to_array(img)\n",
        "img_array = tf.expand_dims(img_array, 0)  # Create a batch\n",
        "predictions = model.predict(img_array)\n",
        "score = tf.nn.softmax(predictions[0])\n",
        "plt.imshow(np.asarray(img), cmap='gray', vmin=0, vmax=255)\n",
        "plt.title(class_names[np.argmax(score)])\n",
        "plt.axis(\"off\")"
      ],
      "metadata": {
        "id": "RsiqASCfdjv9",
        "colab": {
          "base_uri": "https://localhost:8080/",
          "height": 299
        },
        "outputId": "b9d09cf6-9435-451d-ad89-b7f308f5c168"
      },
      "execution_count": 52,
      "outputs": [
        {
          "name": "stdout",
          "output_type": "stream",
          "text": [
            "Enter path of test image: /content/Dataset/DevanagariHandwrittenCharacterDataset/Test/character_33_ha/13246.png\n"
          ]
        },
        {
          "output_type": "execute_result",
          "data": {
            "text/plain": [
              "(-0.5, 31.5, 31.5, -0.5)"
            ]
          },
          "metadata": {},
          "execution_count": 52
        },
        {
          "output_type": "display_data",
          "data": {
            "text/plain": [
              "<Figure size 432x288 with 1 Axes>"
            ],
            "image/png": "[encoded data removed]"
          },
          "metadata": {
            "needs_background": "light"
          }
        }
      ]
    },
    {
      "cell_type": "markdown",
      "source": [
        "### Creating Noise Image"
      ],
      "metadata": {
        "id": "nvJnDtM0excD"
      }
    },
    {
      "cell_type": "code",
      "source": [
        "loss_object = tf.keras.losses.CategoricalCrossentropy()\n",
        "\n",
        "def create_adversarial_pattern(input_image, input_label):\n",
        "  with tf.GradientTape() as tape:\n",
        "    tape.watch(input_image)\n",
        "    prediction = model(input_image)\n",
        "    loss = loss_object(input_label, prediction)\n",
        "\n",
        "  # Get the gradients of the loss w.r.t to the input image.\n",
        "  gradient = tape.gradient(loss, input_image)\n",
        "  # Get the sign of the gradients to create the perturbation\n",
        "  signed_grad = tf.sign(gradient)\n",
        "  return signed_grad"
      ],
      "metadata": {
        "id": "OCqfKImQe0sz"
      },
      "execution_count": 41,
      "outputs": []
    },
    {
      "cell_type": "code",
      "source": [
        "label = tf.one_hot(np.argmax(score), score.shape[-1])\n",
        "label = tf.reshape(label, (1, score.shape[-1]))\n",
        "\n",
        "perturbations = create_adversarial_pattern(img_array, label)\n",
        "plt.imshow(np.squeeze(perturbations[0]) * 0.5 + 0.5, cmap='gray');  # To change [-1, 1] to [0,1]"
      ],
      "metadata": {
        "id": "SDm32tsDf2h5",
        "colab": {
          "base_uri": "https://localhost:8080/",
          "height": 266
        },
        "outputId": "859e6b77-af94-4004-b9e5-97e4ec650827"
      },
      "execution_count": 53,
      "outputs": [
        {
          "output_type": "display_data",
          "data": {
            "text/plain": [
              "<Figure size 432x288 with 1 Axes>"
            ],
            "image/png": "[encoded data removed]"
          },
          "metadata": {
            "needs_background": "light"
          }
        }
      ]
    },
    {
      "cell_type": "code",
      "source": [
        "eps = 0.5\n",
        "adv_x = img_array + eps * perturbations\n",
        "adv_x = tf.clip_by_value(adv_x, -1, 1)\n",
        "\n",
        "plt.imshow(np.squeeze(adv_x[0]) * 0.5 + 0.5, cmap='gray');  # To change [-1, 1] to [0,1]"
      ],
      "metadata": {
        "colab": {
          "base_uri": "https://localhost:8080/",
          "height": 266
        },
        "id": "bzmiuTF-mBn8",
        "outputId": "02ffdbd5-9acc-4164-b7b7-4851718ecaf5"
      },
      "execution_count": 59,
      "outputs": [
        {
          "output_type": "display_data",
          "data": {
            "text/plain": [
              "<Figure size 432x288 with 1 Axes>"
            ],
            "image/png": "[encoded data removed]"
          },
          "metadata": {
            "needs_background": "light"
          }
        }
      ]
    }
  ]
}
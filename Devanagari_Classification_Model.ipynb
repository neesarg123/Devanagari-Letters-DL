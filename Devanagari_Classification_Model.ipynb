{
  "nbformat": 4,
  "nbformat_minor": 0,
  "metadata": {
    "colab": {
      "name": "Devanagari Classification Model.ipynb",
      "provenance": [],
      "toc_visible": true,
      "mount_file_id": "1mIoJ9NmI0mqzorJXMa14QQx5jMDQDN-k",
      "authorship_tag": "ABX9TyOGmRzyR3hjCllxzNrmtNYl",
      "include_colab_link": true
    },
    "kernelspec": {
      "name": "python3",
      "display_name": "Python 3"
    },
    "language_info": {
      "name": "python"
    }
  },
  "cells": [
    {
      "cell_type": "markdown",
      "metadata": {
        "id": "view-in-github",
        "colab_type": "text"
      },
      "source": [
        "<a href=\"https://colab.research.google.com/github/neesarg123/Devanagari-Letters-DL/blob/main/Devanagari_Classification_Model.ipynb\" target=\"_parent\"><img src=\"https://colab.research.google.com/assets/colab-badge.svg\" alt=\"Open In Colab\"/></a>"
      ]
    },
    {
      "cell_type": "code",
      "source": [
        "import os\n",
        "from PIL import Image\n",
        "import pathlib\n",
        "import matplotlib.pyplot as plt\n",
        "import numpy as np \n",
        "import tensorflow as tf\n",
        "\n",
        "from tensorflow import keras\n",
        "from keras import layers\n",
        "from keras.models import Sequential\n",
        "from keras.layers import Conv2D, MaxPooling2D, BatchNormalization\n",
        "from keras.layers import Activation, Dropout, Flatten, Dense\n",
        "from keras.callbacks import EarlyStopping\n",
        "from torchvision import transforms"
      ],
      "metadata": {
        "id": "QvmQKjOujIqb"
      },
      "execution_count": 80,
      "outputs": []
    },
    {
      "cell_type": "markdown",
      "source": [
        "### Loading the dataset into runtime"
      ],
      "metadata": {
        "id": "iazaxbI1gHm1"
      }
    },
    {
      "cell_type": "code",
      "metadata": {
        "id": "SgDQWcMOL9Kh"
      },
      "source": [
        "if not os.path.isdir('/content/Dataset'):\n",
        "   !unzip \"/content/drive/MyDrive/Devanagari Letters/DevanagariHandwrittenCharacterDataset.zip\" -d \"/content/Dataset/\""
      ],
      "execution_count": 48,
      "outputs": []
    },
    {
      "cell_type": "markdown",
      "source": [
        "### Dataset:\n",
        "1. Number of Images: *92,000 >>> 72,000 images in consonant datasest and 20,000 images in numeral dataset*\n",
        "2. Number of Training Images: *78,200*\n",
        "3. Number of Testing Images: *13,800*\n",
        "4. Number of Classes: *46*\n",
        "5. Number of Images Per Class *(Training: 1,700)*\n",
        "6. Number of Images Per Class *(Testing: 300)*"
      ],
      "metadata": {
        "id": "GZzifj5wguUy"
      }
    },
    {
      "cell_type": "code",
      "source": [
        "# how many total classes are there\n",
        "nclasses = len(os.listdir('/content/Dataset/DevanagariHandwrittenCharacterDataset/Train'))\n",
        "\n",
        "# names of the classes\n",
        "classes = [sub_dir for sub_dir in os.listdir('/content/Dataset/DevanagariHandwrittenCharacterDataset/Train')]\n",
        "\n",
        "print(\"Number of classes:\", nclasses)\n",
        "print(\"Classes:\", classes)\n",
        "\n",
        "# Number of images (in train of all classes)\n",
        "\n",
        "for sub_dir, c in zip(os.listdir('/content/Dataset/DevanagariHandwrittenCharacterDataset/Train'), classes):\n",
        "  print(c + \":\", len(os.listdir(f'/content/Dataset/DevanagariHandwrittenCharacterDataset/Train/{sub_dir}')))\n",
        "\n",
        "print(\"#######################################################################\")\n",
        "\n",
        "# same thing for test\n",
        "for sub_dir, c in zip(os.listdir('/content/Dataset/DevanagariHandwrittenCharacterDataset/Test'), classes):\n",
        "  print(c + \":\", len(os.listdir(f'/content/Dataset/DevanagariHandwrittenCharacterDataset/Test/{sub_dir}')))"
      ],
      "metadata": {
        "colab": {
          "base_uri": "https://localhost:8080/"
        },
        "id": "gvWLBMTfgn2a",
        "outputId": "8e6b6010-5c14-495f-e5da-4f5e0314026d"
      },
      "execution_count": 49,
      "outputs": [
        {
          "output_type": "stream",
          "name": "stdout",
          "text": [
            "Number of classes: 46\n",
            "Classes: ['character_12_thaa', 'character_36_gya', 'character_18_da', 'character_19_dha', 'character_9_jha', 'digit_5', 'character_4_gha', 'character_33_ha', 'digit_0', 'digit_8', 'digit_7', 'character_20_na', 'digit_6', 'character_34_chhya', 'character_13_daa', 'character_1_ka', 'character_35_tra', 'character_11_taamatar', 'character_28_la', 'character_27_ra', 'digit_1', 'character_31_petchiryakha', 'character_16_tabala', 'character_10_yna', 'character_2_kha', 'character_29_waw', 'digit_2', 'digit_3', 'character_32_patalosaw', 'character_21_pa', 'character_26_yaw', 'character_3_ga', 'character_17_tha', 'character_24_bha', 'character_14_dhaa', 'character_8_ja', 'character_15_adna', 'digit_9', 'character_30_motosaw', 'character_23_ba', 'character_22_pha', 'digit_4', 'character_25_ma', 'character_5_kna', 'character_6_cha', 'character_7_chha']\n",
            "character_12_thaa: 1700\n",
            "character_36_gya: 1700\n",
            "character_18_da: 1700\n",
            "character_19_dha: 1700\n",
            "character_9_jha: 1700\n",
            "digit_5: 1700\n",
            "character_4_gha: 1700\n",
            "character_33_ha: 1700\n",
            "digit_0: 1700\n",
            "digit_8: 1700\n",
            "digit_7: 1700\n",
            "character_20_na: 1700\n",
            "digit_6: 1700\n",
            "character_34_chhya: 1700\n",
            "character_13_daa: 1700\n",
            "character_1_ka: 1700\n",
            "character_35_tra: 1700\n",
            "character_11_taamatar: 1700\n",
            "character_28_la: 1700\n",
            "character_27_ra: 1700\n",
            "digit_1: 1700\n",
            "character_31_petchiryakha: 1700\n",
            "character_16_tabala: 1700\n",
            "character_10_yna: 1700\n",
            "character_2_kha: 1700\n",
            "character_29_waw: 1700\n",
            "digit_2: 1700\n",
            "digit_3: 1700\n",
            "character_32_patalosaw: 1700\n",
            "character_21_pa: 1700\n",
            "character_26_yaw: 1700\n",
            "character_3_ga: 1700\n",
            "character_17_tha: 1700\n",
            "character_24_bha: 1700\n",
            "character_14_dhaa: 1700\n",
            "character_8_ja: 1700\n",
            "character_15_adna: 1700\n",
            "digit_9: 1700\n",
            "character_30_motosaw: 1700\n",
            "character_23_ba: 1700\n",
            "character_22_pha: 1700\n",
            "digit_4: 1700\n",
            "character_25_ma: 1700\n",
            "character_5_kna: 1700\n",
            "character_6_cha: 1700\n",
            "character_7_chha: 1700\n",
            "#######################################################################\n",
            "character_12_thaa: 300\n",
            "character_36_gya: 300\n",
            "character_18_da: 300\n",
            "character_19_dha: 300\n",
            "character_9_jha: 300\n",
            "digit_5: 300\n",
            "character_4_gha: 300\n",
            "character_33_ha: 300\n",
            "digit_0: 300\n",
            "digit_8: 300\n",
            "digit_7: 300\n",
            "character_20_na: 300\n",
            "digit_6: 300\n",
            "character_34_chhya: 300\n",
            "character_13_daa: 300\n",
            "character_1_ka: 300\n",
            "character_35_tra: 300\n",
            "character_11_taamatar: 300\n",
            "character_28_la: 300\n",
            "character_27_ra: 300\n",
            "digit_1: 300\n",
            "character_31_petchiryakha: 300\n",
            "character_16_tabala: 300\n",
            "character_10_yna: 300\n",
            "character_2_kha: 300\n",
            "character_29_waw: 300\n",
            "digit_2: 300\n",
            "digit_3: 300\n",
            "character_32_patalosaw: 300\n",
            "character_21_pa: 300\n",
            "character_26_yaw: 300\n",
            "character_3_ga: 300\n",
            "character_17_tha: 300\n",
            "character_24_bha: 300\n",
            "character_14_dhaa: 300\n",
            "character_8_ja: 300\n",
            "character_15_adna: 300\n",
            "digit_9: 300\n",
            "character_30_motosaw: 300\n",
            "character_23_ba: 300\n",
            "character_22_pha: 300\n",
            "digit_4: 300\n",
            "character_25_ma: 300\n",
            "character_5_kna: 300\n",
            "character_6_cha: 300\n",
            "character_7_chha: 300\n"
          ]
        }
      ]
    },
    {
      "cell_type": "markdown",
      "source": [
        "### Images\n",
        "\n",
        "\n",
        "*   Every image is of size (32, 32) pixels\n",
        "*   Every image is black and white (0 - 255) \n",
        "\n"
      ],
      "metadata": {
        "id": "B-7gipWIiMjX"
      }
    },
    {
      "cell_type": "code",
      "source": [
        "# plotting one out to see it\n",
        "img = Image.open('/content/Dataset/DevanagariHandwrittenCharacterDataset/Train/character_20_na/11050.png')\n",
        "\n",
        "plt.imshow(np.asarray(img), cmap='gray', vmin=0, vmax=255)\n",
        "\n",
        "print(\"Image Size:\", img.size, \"pixels\")"
      ],
      "metadata": {
        "colab": {
          "base_uri": "https://localhost:8080/",
          "height": 283
        },
        "id": "_jlni15jh1EC",
        "outputId": "4058ade7-920a-4dbf-c2c3-68e839fe9751"
      },
      "execution_count": 50,
      "outputs": [
        {
          "output_type": "stream",
          "name": "stdout",
          "text": [
            "Image Size: (32, 32) pixels\n"
          ]
        },
        {
          "output_type": "display_data",
          "data": {
            "text/plain": [
              "<Figure size 432x288 with 1 Axes>"
            ],
            "image/png": "[encoded data removed]"
          },
          "metadata": {
            "needs_background": "light"
          }
        }
      ]
    },
    {
      "cell_type": "markdown",
      "source": [
        "### Training and Validation"
      ],
      "metadata": {
        "id": "HqAxQX__mUZL"
      }
    },
    {
      "cell_type": "markdown",
      "source": [
        "#### Parameters"
      ],
      "metadata": {
        "id": "ZruyQSQWmdJG"
      }
    },
    {
      "cell_type": "code",
      "source": [
        "batch_size = 64\n",
        "img_height = 32\n",
        "img_width = 32 "
      ],
      "metadata": {
        "id": "-czuLnP-ibbu"
      },
      "execution_count": 51,
      "outputs": []
    },
    {
      "cell_type": "markdown",
      "source": [
        "#### Splitting Data"
      ],
      "metadata": {
        "id": "xbrQlAErmkzI"
      }
    },
    {
      "cell_type": "code",
      "source": [
        "train_ds = keras.utils.image_dataset_from_directory(\n",
        "                                                    directory='/content/Dataset/DevanagariHandwrittenCharacterDataset/Train',\n",
        "                                                    labels='inferred',\n",
        "                                                    label_mode='categorical',\n",
        "                                                    seed=100,\n",
        "                                                    validation_split=0.2,\n",
        "                                                    subset='training',\n",
        "                                                    color_mode='grayscale',\n",
        "                                                    batch_size=batch_size,\n",
        "                                                    image_size=(img_height, img_width)\n",
        "                                                   )"
      ],
      "metadata": {
        "colab": {
          "base_uri": "https://localhost:8080/"
        },
        "id": "Hm0dPOrBo4fn",
        "outputId": "3288c1fa-39c8-4760-b7c8-ff6016dd9176"
      },
      "execution_count": 52,
      "outputs": [
        {
          "output_type": "stream",
          "name": "stdout",
          "text": [
            "Found 78200 files belonging to 46 classes.\n",
            "Using 62560 files for training.\n"
          ]
        }
      ]
    },
    {
      "cell_type": "code",
      "source": [
        "val_ds = keras.utils.image_dataset_from_directory(\n",
        "                                                    directory='/content/Dataset/DevanagariHandwrittenCharacterDataset/Train',\n",
        "                                                    labels='inferred',\n",
        "                                                    label_mode='categorical',\n",
        "                                                    seed=100,\n",
        "                                                    validation_split=0.2,\n",
        "                                                    subset='validation',\n",
        "                                                    color_mode='grayscale',\n",
        "                                                    batch_size=batch_size,\n",
        "                                                    image_size=(img_height, img_width)\n",
        "                                                   )"
      ],
      "metadata": {
        "colab": {
          "base_uri": "https://localhost:8080/"
        },
        "id": "7y1bBAsKpbvc",
        "outputId": "4c9aad6a-f4e0-4766-adae-cba617bf3f16"
      },
      "execution_count": 53,
      "outputs": [
        {
          "output_type": "stream",
          "name": "stdout",
          "text": [
            "Found 78200 files belonging to 46 classes.\n",
            "Using 15640 files for validation.\n"
          ]
        }
      ]
    },
    {
      "cell_type": "markdown",
      "source": [
        "#### Visualizing Training Images Data"
      ],
      "metadata": {
        "id": "94yi4QY0sEaH"
      }
    },
    {
      "cell_type": "code",
      "source": [
        "class_names = train_ds.class_names\n",
        "\n",
        "plt.figure(figsize=(10, 10))\n",
        "for images, labels in train_ds.take(1):\n",
        "  for i in range(9):\n",
        "    ax = plt.subplot(3, 3, i + 1)\n",
        "    plt.imshow(images[i].numpy().squeeze().astype(\"uint8\"), cmap='gray', vmin=0, vmax=255)\n",
        "    plt.title(class_names[np.argmax(labels[i])])\n",
        "    plt.axis(\"off\")"
      ],
      "metadata": {
        "colab": {
          "base_uri": "https://localhost:8080/",
          "height": 591
        },
        "id": "Q6ABYwf0sJbR",
        "outputId": "da7a1d5d-9427-428e-de01-d5ec53b3ebba"
      },
      "execution_count": 55,
      "outputs": [
        {
          "output_type": "display_data",
          "data": {
            "text/plain": [
              "<Figure size 720x720 with 9 Axes>"
            ],
            "image/png": "[encoded data removed]"
          },
          "metadata": {
            "needs_background": "light"
          }
        }
      ]
    },
    {
      "cell_type": "markdown",
      "source": [
        "#### Configuration for Faster Performance in Training"
      ],
      "metadata": {
        "id": "Vv2Xhkpw7vie"
      }
    },
    {
      "cell_type": "code",
      "source": [
        "AUTOTUNE = tf.data.AUTOTUNE\n",
        "\n",
        "train_ds = train_ds.cache().shuffle(1000).prefetch(buffer_size=AUTOTUNE)\n",
        "val_ds = val_ds.cache().prefetch(buffer_size=AUTOTUNE)"
      ],
      "metadata": {
        "id": "GTCk3frE72tP"
      },
      "execution_count": 56,
      "outputs": []
    },
    {
      "cell_type": "markdown",
      "source": [
        "#### Initializing a Model"
      ],
      "metadata": {
        "id": "dx2Gc4y78NrL"
      }
    },
    {
      "cell_type": "code",
      "source": [
        "def init_model():\n",
        "  model = Sequential()\n",
        "  model.add(layers.Rescaling(1./255, input_shape=(img_height, img_width, 1)))  # normalizing pixel values\n",
        "  model.add(Conv2D(filters=32, kernel_size=(5, 5), activation='relu', name='conv2D_1'))  # first convolution layer\n",
        "  model.add(MaxPooling2D(pool_size=(2, 2), name='max_pool_1'))  # first max pooling layer\n",
        "  model.add(Conv2D(filters=64, kernel_size=(3, 3), activation='relu', name='conv2D_2'))  # second convolution layer\n",
        "  model.add(MaxPooling2D(pool_size=(2, 2), name='max_pool_2'))  # second max pooling layer \n",
        "  model.add(Dropout(seed=100, rate=0.2))  # ignoring 20% inputs \n",
        "  model.add(Flatten())  # flattening for following feed forward NN layers\n",
        "  model.add(Dense(units=128, activation='relu', name='dense_1'))  # first dense layer \n",
        "  model.add(Dense(units=64, activation='relu', name='dense_2'))  # second dense layer\n",
        "  model.add(Dense(units=len(class_names), activation='softmax', name='output'))  # output layer that will predict image class\n",
        "  model.compile(loss='categorical_crossentropy', optimizer='adam', metrics=['accuracy'])\n",
        "\n",
        "  return model"
      ],
      "metadata": {
        "id": "T9svRHQA8Rpj"
      },
      "execution_count": 61,
      "outputs": []
    },
    {
      "cell_type": "markdown",
      "source": [
        "#### Training"
      ],
      "metadata": {
        "id": "wFTIRPNOIbc9"
      }
    },
    {
      "cell_type": "code",
      "source": [
        "model = init_model()\n",
        "print(model.summary())"
      ],
      "metadata": {
        "colab": {
          "base_uri": "https://localhost:8080/"
        },
        "id": "QZ2BgsiyIdCF",
        "outputId": "71f365d4-1abe-4918-b456-96c03c0555f6"
      },
      "execution_count": 62,
      "outputs": [
        {
          "output_type": "stream",
          "name": "stdout",
          "text": [
            "Model: \"sequential_2\"\n",
            "_________________________________________________________________\n",
            " Layer (type)                Output Shape              Param #   \n",
            "=================================================================\n",
            " rescaling_2 (Rescaling)     (None, 32, 32, 1)         0         \n",
            "                                                                 \n",
            " conv2D_1 (Conv2D)           (None, 28, 28, 32)        832       \n",
            "                                                                 \n",
            " max_pool_1 (MaxPooling2D)   (None, 14, 14, 32)        0         \n",
            "                                                                 \n",
            " conv2D_2 (Conv2D)           (None, 12, 12, 64)        18496     \n",
            "                                                                 \n",
            " max_pool_2 (MaxPooling2D)   (None, 6, 6, 64)          0         \n",
            "                                                                 \n",
            " dropout_2 (Dropout)         (None, 6, 6, 64)          0         \n",
            "                                                                 \n",
            " flatten_2 (Flatten)         (None, 2304)              0         \n",
            "                                                                 \n",
            " dense_1 (Dense)             (None, 128)               295040    \n",
            "                                                                 \n",
            " dense_2 (Dense)             (None, 64)                8256      \n",
            "                                                                 \n",
            " output (Dense)              (None, 46)                2990      \n",
            "                                                                 \n",
            "=================================================================\n",
            "Total params: 325,614\n",
            "Trainable params: 325,614\n",
            "Non-trainable params: 0\n",
            "_________________________________________________________________\n",
            "None\n"
          ]
        }
      ]
    },
    {
      "cell_type": "code",
      "source": [
        "early_stopping_monitor = EarlyStopping(patience=2)  # stop early if there is no improvement in 2 epochs \n",
        "epochs = 20 \n",
        "history = model.fit(train_ds, validation_data=val_ds, epochs=epochs, batch_size=batch_size, verbose=2)"
      ],
      "metadata": {
        "colab": {
          "base_uri": "https://localhost:8080/"
        },
        "id": "TVl0JVwfI26q",
        "outputId": "671d9980-a9a1-40b8-f3f9-dc6f48e0f930"
      },
      "execution_count": 66,
      "outputs": [
        {
          "output_type": "stream",
          "name": "stdout",
          "text": [
            "Epoch 1/20\n",
            "978/978 - 86s - loss: 0.7952 - accuracy: 0.7772 - val_loss: 0.2568 - val_accuracy: 0.9224 - 86s/epoch - 88ms/step\n",
            "Epoch 2/20\n",
            "978/978 - 64s - loss: 0.2184 - accuracy: 0.9328 - val_loss: 0.1528 - val_accuracy: 0.9536 - 64s/epoch - 65ms/step\n",
            "Epoch 3/20\n",
            "978/978 - 65s - loss: 0.1418 - accuracy: 0.9551 - val_loss: 0.1272 - val_accuracy: 0.9617 - 65s/epoch - 67ms/step\n",
            "Epoch 4/20\n",
            "978/978 - 67s - loss: 0.1040 - accuracy: 0.9670 - val_loss: 0.1063 - val_accuracy: 0.9692 - 67s/epoch - 69ms/step\n",
            "Epoch 5/20\n",
            "978/978 - 65s - loss: 0.0810 - accuracy: 0.9738 - val_loss: 0.1092 - val_accuracy: 0.9687 - 65s/epoch - 67ms/step\n",
            "Epoch 6/20\n",
            "978/978 - 64s - loss: 0.0660 - accuracy: 0.9782 - val_loss: 0.1070 - val_accuracy: 0.9693 - 64s/epoch - 65ms/step\n",
            "Epoch 7/20\n",
            "978/978 - 64s - loss: 0.0548 - accuracy: 0.9822 - val_loss: 0.1025 - val_accuracy: 0.9699 - 64s/epoch - 65ms/step\n",
            "Epoch 8/20\n",
            "978/978 - 66s - loss: 0.0487 - accuracy: 0.9840 - val_loss: 0.1081 - val_accuracy: 0.9713 - 66s/epoch - 68ms/step\n",
            "Epoch 9/20\n",
            "978/978 - 68s - loss: 0.0423 - accuracy: 0.9860 - val_loss: 0.0869 - val_accuracy: 0.9766 - 68s/epoch - 69ms/step\n",
            "Epoch 10/20\n",
            "978/978 - 64s - loss: 0.0384 - accuracy: 0.9872 - val_loss: 0.1029 - val_accuracy: 0.9733 - 64s/epoch - 66ms/step\n",
            "Epoch 11/20\n",
            "978/978 - 66s - loss: 0.0348 - accuracy: 0.9883 - val_loss: 0.0981 - val_accuracy: 0.9749 - 66s/epoch - 67ms/step\n",
            "Epoch 12/20\n",
            "978/978 - 66s - loss: 0.0328 - accuracy: 0.9888 - val_loss: 0.0869 - val_accuracy: 0.9778 - 66s/epoch - 67ms/step\n",
            "Epoch 13/20\n",
            "978/978 - 66s - loss: 0.0295 - accuracy: 0.9901 - val_loss: 0.0994 - val_accuracy: 0.9765 - 66s/epoch - 67ms/step\n",
            "Epoch 14/20\n",
            "978/978 - 68s - loss: 0.0286 - accuracy: 0.9906 - val_loss: 0.0976 - val_accuracy: 0.9762 - 68s/epoch - 69ms/step\n",
            "Epoch 15/20\n",
            "978/978 - 64s - loss: 0.0255 - accuracy: 0.9915 - val_loss: 0.1012 - val_accuracy: 0.9760 - 64s/epoch - 65ms/step\n",
            "Epoch 16/20\n",
            "978/978 - 66s - loss: 0.0255 - accuracy: 0.9918 - val_loss: 0.0965 - val_accuracy: 0.9779 - 66s/epoch - 67ms/step\n",
            "Epoch 17/20\n",
            "978/978 - 64s - loss: 0.0249 - accuracy: 0.9919 - val_loss: 0.0988 - val_accuracy: 0.9771 - 64s/epoch - 65ms/step\n",
            "Epoch 18/20\n",
            "978/978 - 64s - loss: 0.0221 - accuracy: 0.9926 - val_loss: 0.1002 - val_accuracy: 0.9776 - 64s/epoch - 65ms/step\n",
            "Epoch 19/20\n",
            "978/978 - 66s - loss: 0.0211 - accuracy: 0.9927 - val_loss: 0.0949 - val_accuracy: 0.9801 - 66s/epoch - 67ms/step\n",
            "Epoch 20/20\n",
            "978/978 - 64s - loss: 0.0197 - accuracy: 0.9934 - val_loss: 0.1094 - val_accuracy: 0.9765 - 64s/epoch - 65ms/step\n"
          ]
        }
      ]
    },
    {
      "cell_type": "markdown",
      "source": [
        "#### Training Loss & Validation Loss"
      ],
      "metadata": {
        "id": "YJFALBGYZRVD"
      }
    },
    {
      "cell_type": "code",
      "source": [
        "acc = history.history['accuracy']\n",
        "val_acc = history.history['val_accuracy']\n",
        "\n",
        "loss = history.history['loss']\n",
        "val_loss = history.history['val_loss']\n",
        "\n",
        "epochs_range = range(epochs)\n",
        "\n",
        "plt.figure(figsize=(8, 8))\n",
        "plt.subplot(1, 2, 1)\n",
        "plt.plot(epochs_range, acc, label='Training Accuracy')\n",
        "plt.plot(epochs_range, val_acc, label='Validation Accuracy')\n",
        "plt.legend(loc='lower right')\n",
        "plt.title('Training and Validation Accuracy')\n",
        "\n",
        "plt.subplot(1, 2, 2)\n",
        "plt.plot(epochs_range, loss, label='Training Loss')\n",
        "plt.plot(epochs_range, val_loss, label='Validation Loss')\n",
        "plt.legend(loc='upper right')\n",
        "plt.title('Training and Validation Loss')\n",
        "plt.show()"
      ],
      "metadata": {
        "colab": {
          "base_uri": "https://localhost:8080/",
          "height": 499
        },
        "id": "5mKGzwpCZWnR",
        "outputId": "0b7394b2-e43e-49cd-ebab-52794c23f8bc"
      },
      "execution_count": 68,
      "outputs": [
        {
          "output_type": "display_data",
          "data": {
            "text/plain": [
              "<Figure size 576x576 with 2 Axes>"
            ],
            "image/png": "[encoded data removed]"
          },
          "metadata": {
            "needs_background": "light"
          }
        }
      ]
    },
    {
      "cell_type": "markdown",
      "source": [
        "### Testing on New Data"
      ],
      "metadata": {
        "id": "wfFoVy8kZyXl"
      }
    },
    {
      "cell_type": "markdown",
      "source": [
        "#### Testing Data"
      ],
      "metadata": {
        "id": "BlLWDVjsa6js"
      }
    },
    {
      "cell_type": "code",
      "source": [
        "test_ds = keras.utils.image_dataset_from_directory(\n",
        "                                                    directory='/content/Dataset/DevanagariHandwrittenCharacterDataset/Test',\n",
        "                                                    labels='inferred',\n",
        "                                                    label_mode='categorical',\n",
        "                                                    seed=100,\n",
        "                                                    color_mode='grayscale',\n",
        "                                                    batch_size=batch_size,\n",
        "                                                    image_size=(img_height, img_width)\n",
        "                                                   )"
      ],
      "metadata": {
        "colab": {
          "base_uri": "https://localhost:8080/"
        },
        "id": "vI3NUgLiZ1MC",
        "outputId": "dd848a16-9ac2-4869-a233-bd6c49c69520"
      },
      "execution_count": 70,
      "outputs": [
        {
          "output_type": "stream",
          "name": "stdout",
          "text": [
            "Found 13800 files belonging to 46 classes.\n"
          ]
        }
      ]
    },
    {
      "cell_type": "markdown",
      "source": [
        "#### Evaluating the Model on Testing Data"
      ],
      "metadata": {
        "id": "v_JTQgh9bojT"
      }
    },
    {
      "cell_type": "code",
      "source": [
        "score = model.evaluate(test_ds, batch_size=batch_size, verbose=2)\n",
        "print('Test loss:', score[0])\n",
        "print('Test accuracy:', score[1])"
      ],
      "metadata": {
        "colab": {
          "base_uri": "https://localhost:8080/"
        },
        "id": "jz0LIci2brlT",
        "outputId": "49de5548-06a1-4b9e-c832-7686a5ccbdf1"
      },
      "execution_count": 73,
      "outputs": [
        {
          "output_type": "stream",
          "name": "stdout",
          "text": [
            "216/216 - 7s - loss: 0.1139 - accuracy: 0.9766 - 7s/epoch - 31ms/step\n",
            "Test loss: 0.11386416852474213\n",
            "Test accuracy: 0.9765942096710205\n"
          ]
        }
      ]
    },
    {
      "cell_type": "markdown",
      "source": [
        "### Prediction Visualization"
      ],
      "metadata": {
        "id": "badE44RPcrcE"
      }
    },
    {
      "cell_type": "code",
      "source": [
        "test_img_path = input(\"Enter path of test image: \")\n",
        "\n",
        "img = Image.open(test_img_path)\n",
        "img_array = tf.keras.utils.img_to_array(img)\n",
        "img_array = tf.expand_dims(img_array, 0)  # Create a batch\n",
        "predictions = model.predict(img_array)\n",
        "score = tf.nn.softmax(predictions[0])\n",
        "\n",
        "plt.imshow(np.asarray(img), cmap='gray', vmin=0, vmax=255)\n",
        "plt.title(class_names[np.argmax(score)])\n",
        "plt.axis(\"off\")"
      ],
      "metadata": {
        "colab": {
          "base_uri": "https://localhost:8080/",
          "height": 299
        },
        "id": "yigvNJZTcuuq",
        "outputId": "34d24d02-2a61-4f47-bca5-a5e33a1fd50c"
      },
      "execution_count": 76,
      "outputs": [
        {
          "name": "stdout",
          "output_type": "stream",
          "text": [
            "Enter path of test image: /content/Dataset/DevanagariHandwrittenCharacterDataset/Test/character_15_adna/100360.png\n"
          ]
        },
        {
          "output_type": "execute_result",
          "data": {
            "text/plain": [
              "(-0.5, 31.5, 31.5, -0.5)"
            ]
          },
          "metadata": {},
          "execution_count": 76
        },
        {
          "output_type": "display_data",
          "data": {
            "text/plain": [
              "<Figure size 432x288 with 1 Axes>"
            ],
            "image/png": "[encoded data removed]"
          },
          "metadata": {
            "needs_background": "light"
          }
        }
      ]
    },
    {
      "cell_type": "markdown",
      "source": [
        "### Saving Model"
      ],
      "metadata": {
        "id": "DdlWPtUCkJCh"
      }
    },
    {
      "cell_type": "code",
      "source": [
        "model.save(\"/content/drive/MyDrive/Model/\")"
      ],
      "metadata": {
        "id": "qvSTJNJVkH-_"
      },
      "execution_count": 83,
      "outputs": []
    }
  ]
}
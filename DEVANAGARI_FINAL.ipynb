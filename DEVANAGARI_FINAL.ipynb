{
  "nbformat": 4,
  "nbformat_minor": 0,
  "metadata": {
    "colab": {
      "name": "DEVANAGARI FINAL.ipynb",
      "provenance": [],
      "mount_file_id": "1kvP4kk_jpIxuDjQjK1u7F2MAnYhrIOtT",
      "authorship_tag": "ABX9TyOjNYVIU71jg0ITDAeRP3HE",
      "include_colab_link": true
    },
    "kernelspec": {
      "display_name": "Python 3",
      "name": "python3"
    },
    "language_info": {
      "name": "python"
    },
    "accelerator": "GPU"
  },
  "cells": [
    {
      "cell_type": "markdown",
      "metadata": {
        "id": "view-in-github",
        "colab_type": "text"
      },
      "source": [
        "<a href=\"https://colab.research.google.com/github/neesarg123/Devanagri-Letters-DL/blob/main/DEVANAGARI_FINAL.ipynb\" target=\"_parent\"><img src=\"https://colab.research.google.com/assets/colab-badge.svg\" alt=\"Open In Colab\"/></a>"
      ]
    },
    {
      "cell_type": "markdown",
      "metadata": {
        "id": "CbkQGUyYMqNO"
      },
      "source": [
        "## Loading the images from the google drive folder"
      ]
    },
    {
      "cell_type": "code",
      "metadata": {
        "id": "SgDQWcMOL9Kh"
      },
      "source": [
        "import os\n",
        "\n",
        "if not os.path.isdir('/content/Dataset'):\n",
        "   !unzip \"/content/drive/MyDrive/Devanagari Letters/DevanagariHandwrittenCharacterDataset.zip\" -d \"/content/Dataset/\""
      ],
      "execution_count": null,
      "outputs": []
    },
    {
      "cell_type": "markdown",
      "metadata": {
        "id": "xxTYh2ADMx1K"
      },
      "source": [
        "## Understanding the data and dataset"
      ]
    },
    {
      "cell_type": "markdown",
      "metadata": {
        "id": "x5m3BuZN3jwU"
      },
      "source": [
        "### Dataset\n",
        "\n",
        "\n",
        "1.   Number of Classes: 46\n",
        "2.   Total number of images: 92,000 >>> 72, 000 images in consonant datasest and 20, 000 images in numeral dataset.\n",
        "3. Training: 78,200 images (each class has 1,700)\n",
        "4. Testing: 13,800 images (each class has 300) \n",
        "\n"
      ]
    },
    {
      "cell_type": "code",
      "metadata": {
        "id": "tUvsNOZq10_D",
        "colab": {
          "base_uri": "https://localhost:8080/"
        },
        "outputId": "71689aa6-ba41-4e6e-e9ab-6713a798a216"
      },
      "source": [
        "# how many total classes are there\n",
        "nclasses = len(os.listdir('/content/Dataset/DevanagariHandwrittenCharacterDataset/Train'))\n",
        "\n",
        "# names of the classes\n",
        "classes = [sub_dir for sub_dir in os.listdir('/content/Dataset/DevanagariHandwrittenCharacterDataset/Train')]\n",
        "\n",
        "print(\"Number of classes:\", nclasses)\n",
        "print(\"Classes:\", classes)"
      ],
      "execution_count": null,
      "outputs": [
        {
          "output_type": "stream",
          "text": [
            "Number of classes: 36\n",
            "Classes: ['character_18_da', 'character_15_adna', 'character_21_pa', 'character_17_tha', 'character_22_pha', 'character_34_chhya', 'character_16_tabala', 'character_14_dhaa', 'character_33_ha', 'character_4_gha', 'character_6_cha', 'character_36_gya', 'character_27_ra', 'character_12_thaa', 'character_3_ga', 'character_23_ba', 'character_1_ka', 'character_9_jha', 'character_5_kna', 'character_24_bha', 'character_31_petchiryakha', 'character_10_yna', 'character_29_waw', 'character_19_dha', 'character_26_yaw', 'character_35_tra', 'character_11_taamatar', 'character_20_na', 'character_13_daa', 'character_25_ma', 'character_28_la', 'character_32_patalosaw', 'character_2_kha', 'character_7_chha', 'character_8_ja', 'character_30_motosaw']\n"
          ],
          "name": "stdout"
        }
      ]
    },
    {
      "cell_type": "markdown",
      "metadata": {
        "id": "3UCcifKLhRsA"
      },
      "source": [
        "### Let's remove the digit images as they can harm feature extraction of characters"
      ]
    },
    {
      "cell_type": "code",
      "metadata": {
        "id": "089wkD3XhZT3"
      },
      "source": [
        "import shutil\n",
        "\n",
        "for rootDir, subdirs, filenames in os.walk('/content/Dataset/DevanagariHandwrittenCharacterDataset'):\n",
        "  if \"digit\" in rootDir:\n",
        "    try:\n",
        "      shutil.rmtree(rootDir)\n",
        "    except Exception as e:\n",
        "      print(\"There was an error while deleting:\", rootDir, e)"
      ],
      "execution_count": null,
      "outputs": []
    },
    {
      "cell_type": "markdown",
      "metadata": {
        "id": "HZQCvMyUidnj"
      },
      "source": [
        "### How many images in each class "
      ]
    },
    {
      "cell_type": "code",
      "metadata": {
        "id": "yWVDxUSb5dmy",
        "colab": {
          "base_uri": "https://localhost:8080/"
        },
        "outputId": "ab61dc6e-b272-4601-9487-fd1f298588be"
      },
      "source": [
        "# Number of images (in train of all classes)\n",
        "\n",
        "for sub_dir, c in zip(os.listdir('/content/Dataset/DevanagariHandwrittenCharacterDataset/Train'), classes):\n",
        "  print(c + \":\", len(os.listdir(f'/content/Dataset/DevanagariHandwrittenCharacterDataset/Train/{sub_dir}')))\n",
        "\n",
        "print(\"#######################################################################\")\n",
        "\n",
        "# same thing for test\n",
        "for sub_dir, c in zip(os.listdir('/content/Dataset/DevanagariHandwrittenCharacterDataset/Test'), classes):\n",
        "  print(c + \":\", len(os.listdir(f'/content/Dataset/DevanagariHandwrittenCharacterDataset/Test/{sub_dir}')))\n"
      ],
      "execution_count": null,
      "outputs": [
        {
          "output_type": "stream",
          "text": [
            "character_18_da: 1700\n",
            "character_15_adna: 1700\n",
            "character_21_pa: 1700\n",
            "character_17_tha: 1700\n",
            "character_22_pha: 1700\n",
            "character_34_chhya: 1700\n",
            "character_16_tabala: 1700\n",
            "character_14_dhaa: 1700\n",
            "character_33_ha: 1700\n",
            "character_4_gha: 1700\n",
            "character_6_cha: 1700\n",
            "character_36_gya: 1700\n",
            "character_27_ra: 1700\n",
            "character_12_thaa: 1700\n",
            "character_3_ga: 1700\n",
            "character_23_ba: 1700\n",
            "character_1_ka: 1700\n",
            "character_9_jha: 1700\n",
            "character_5_kna: 1700\n",
            "character_24_bha: 1700\n",
            "character_31_petchiryakha: 1700\n",
            "character_10_yna: 1700\n",
            "character_29_waw: 1700\n",
            "character_19_dha: 1700\n",
            "character_26_yaw: 1700\n",
            "character_35_tra: 1700\n",
            "character_11_taamatar: 1700\n",
            "character_20_na: 1700\n",
            "character_13_daa: 1700\n",
            "character_25_ma: 1700\n",
            "character_28_la: 1700\n",
            "character_32_patalosaw: 1700\n",
            "character_2_kha: 1700\n",
            "character_7_chha: 1700\n",
            "character_8_ja: 1700\n",
            "character_30_motosaw: 1700\n",
            "#######################################################################\n",
            "character_18_da: 300\n",
            "character_15_adna: 300\n",
            "character_21_pa: 300\n",
            "character_17_tha: 300\n",
            "character_22_pha: 300\n",
            "character_34_chhya: 300\n",
            "character_16_tabala: 300\n",
            "character_14_dhaa: 300\n",
            "character_33_ha: 300\n",
            "character_4_gha: 300\n",
            "character_6_cha: 300\n",
            "character_36_gya: 300\n",
            "character_27_ra: 300\n",
            "character_12_thaa: 300\n",
            "character_3_ga: 300\n",
            "character_23_ba: 300\n",
            "character_1_ka: 300\n",
            "character_9_jha: 300\n",
            "character_5_kna: 300\n",
            "character_24_bha: 300\n",
            "character_31_petchiryakha: 300\n",
            "character_10_yna: 300\n",
            "character_29_waw: 300\n",
            "character_19_dha: 300\n",
            "character_26_yaw: 300\n",
            "character_35_tra: 300\n",
            "character_11_taamatar: 300\n",
            "character_20_na: 300\n",
            "character_13_daa: 300\n",
            "character_25_ma: 300\n",
            "character_28_la: 300\n",
            "character_32_patalosaw: 300\n",
            "character_2_kha: 300\n",
            "character_7_chha: 300\n",
            "character_8_ja: 300\n",
            "character_30_motosaw: 300\n"
          ],
          "name": "stdout"
        }
      ]
    },
    {
      "cell_type": "markdown",
      "metadata": {
        "id": "VPkaX8Xw7aWS"
      },
      "source": [
        "### Images\n",
        "\n",
        "1. Size: 32 x 32 pixels\n",
        "\n"
      ]
    },
    {
      "cell_type": "code",
      "metadata": {
        "id": "7WNXiTfT6lrA",
        "colab": {
          "base_uri": "https://localhost:8080/",
          "height": 284
        },
        "outputId": "6f20eb6a-7f33-4e42-d6a1-7dfa902797c4"
      },
      "source": [
        "# plotting one out to see it\n",
        "from PIL import Image\n",
        "import matplotlib.pyplot as plt\n",
        "\n",
        "img = Image.open('/content/Dataset/DevanagariHandwrittenCharacterDataset/Train/character_10_yna/10543.png')\n",
        "\n",
        "plt.imshow(img)\n",
        "\n",
        "print(\"Image Size:\", img.size, \"pixels\")"
      ],
      "execution_count": null,
      "outputs": [
        {
          "output_type": "stream",
          "text": [
            "Image Size: (32, 32) pixels\n"
          ],
          "name": "stdout"
        },
        {
          "output_type": "display_data",
          "data": {
            "image/png": "[encoded data removed]",
            "text/plain": [
              "<Figure size 432x288 with 1 Axes>"
            ]
          },
          "metadata": {
            "tags": [],
            "needs_background": "light"
          }
        }
      ]
    },
    {
      "cell_type": "code",
      "metadata": {
        "id": "VbGi3twllLAT",
        "colab": {
          "base_uri": "https://localhost:8080/"
        },
        "outputId": "b3fbf156-58c7-4e16-88dd-525ab6b96366"
      },
      "source": [
        "# converting from an image to a numpy array to see data type\n",
        "import numpy as np\n",
        "\n",
        "na = np.asarray(img)\n",
        "\n",
        "print(na.dtype)\n",
        "# the max element to check if the data is normalized already\n",
        "print(np.max(np.asarray(img)))"
      ],
      "execution_count": null,
      "outputs": [
        {
          "output_type": "stream",
          "text": [
            "uint8\n",
            "255\n"
          ],
          "name": "stdout"
        }
      ]
    },
    {
      "cell_type": "markdown",
      "metadata": {
        "id": "lVkk1KDJM_C5"
      },
      "source": [
        "## Data Augementation"
      ]
    },
    {
      "cell_type": "code",
      "metadata": {
        "id": "9iiFR3KNlzjv",
        "colab": {
          "base_uri": "https://localhost:8080/"
        },
        "outputId": "bc042626-49ec-4673-c291-9435befb1a08"
      },
      "source": [
        "from keras.preprocessing.image import ImageDataGenerator\n",
        "\n",
        "batch_size = 200\n",
        "\n",
        "train_datagen = ImageDataGenerator(rescale=1./255,  # normalization\n",
        "                                   rotation_range=50,  # rotation\n",
        "                                   width_shift_range=0.2,  # random crop\n",
        "                                   height_shift_range=0.2,  # random crop\n",
        "                                   shear_range=0.8,  # random manipulation\n",
        "                                   zoom_range=0.2,  # zooming in \n",
        "                                   fill_mode='constant',  # to fill with constant padding \n",
        "                                   horizontal_flip=True) # mirroring\n",
        "\n",
        "train_generator = train_datagen.flow_from_directory(\n",
        "        '/content/Dataset/DevanagariHandwrittenCharacterDataset/Train',\n",
        "        target_size=(32, 32),\n",
        "        batch_size=batch_size,\n",
        "        class_mode='categorical',\n",
        "        color_mode='grayscale')\n",
        "\n",
        "validation_generator = train_datagen.flow_from_directory(\n",
        "        '/content/Dataset/DevanagariHandwrittenCharacterDataset/Test',\n",
        "        target_size=(32, 32),\n",
        "        batch_size=batch_size,\n",
        "        class_mode='categorical',\n",
        "        color_mode='grayscale')"
      ],
      "execution_count": null,
      "outputs": [
        {
          "output_type": "stream",
          "text": [
            "Found 61200 images belonging to 36 classes.\n",
            "Found 10800 images belonging to 36 classes.\n"
          ],
          "name": "stdout"
        }
      ]
    },
    {
      "cell_type": "markdown",
      "metadata": {
        "id": "sfqeJMMANYsn"
      },
      "source": [
        "## Building the Model\n",
        "\n",
        "INPUT SHAPE: (32 x 32 x 1)\n",
        "\n",
        "2 CONVOLUTIONAL LAYERS\n",
        "  - C1: with kernel size of (3 x 3), filters: 64\n",
        "  - C2: with kernel size of (5 x 5), filters: 128\n",
        "  - Batch Normalization\n",
        "  - Max Pooling with kernel size of (2 x 2), stride of 2\n",
        "  - Activation function: relu\n",
        "  - C1: feature map shape (28 x 28)\n",
        "  - C2: feature map shape (10 x 10)\n",
        "  - no padding: valid\n",
        "\n",
        "Flatten \n",
        "\n",
        "FC Layer\n",
        "  - D1: 128 neurons, activation: relu (maybe can remove later)\n",
        "  - Dropout: 0.2\n",
        "  - D2/output: 36 neurons, activation: softmax\n",
        "\n",
        "Optimizer\n",
        "  - SGD with momentum of 0.9\n",
        "  - Learning rate: 0.005 (maybe can change to 0.001 later)\n",
        "\n",
        "Loss\n",
        "  - categorical cross entropy\n",
        "\n",
        "Epochs: 50"
      ]
    },
    {
      "cell_type": "code",
      "metadata": {
        "id": "RELFWURpNSNv",
        "colab": {
          "base_uri": "https://localhost:8080/"
        },
        "outputId": "95f250ca-77e8-4abe-ebdf-6b44acc07470"
      },
      "source": [
        "from keras.models import Sequential\n",
        "from keras.layers import Conv2D, MaxPooling2D, BatchNormalization\n",
        "from keras.layers import Activation, Dropout, Flatten, Dense\n",
        "from keras.optimizers import SGD\n",
        "\n",
        "\n",
        "INPUT_SHAPE = (32, 32, 1)\n",
        "\n",
        "activation = 'relu'\n",
        "model4 = Sequential()\n",
        "\n",
        "model4.add(Conv2D(filters=32, kernel_size=(3, 3), activation=activation, padding='valid', input_shape=INPUT_SHAPE))\n",
        "model4.add(BatchNormalization())\n",
        "model4.add(MaxPooling2D(pool_size=(2, 2), strides=(2, 2), padding='valid'))\n",
        "\n",
        "model4.add(Conv2D(filters=64, kernel_size=(5, 5), activation=activation, padding='valid'))\n",
        "model4.add(BatchNormalization())\n",
        "model4.add(MaxPooling2D(pool_size=(2, 2), strides=(2, 2), padding='valid'))\n",
        "\n",
        "model4.add(Flatten())\n",
        "\n",
        "model4.add(Dense(256, activation=activation))\n",
        "model4.add(Dropout(0.2))\n",
        "model4.add(Dense(36, activation=\"softmax\"))\n",
        "\n",
        "opt = SGD(learning_rate=0.005, momentum=0.9)\n",
        "\n",
        "model4.compile(optimizer=opt, loss='categorical_crossentropy', metrics=['accuracy'])\n",
        "print(model4.summary()) "
      ],
      "execution_count": null,
      "outputs": [
        {
          "output_type": "stream",
          "text": [
            "Model: \"sequential_5\"\n",
            "_________________________________________________________________\n",
            "Layer (type)                 Output Shape              Param #   \n",
            "=================================================================\n",
            "conv2d_10 (Conv2D)           (None, 30, 30, 32)        320       \n",
            "_________________________________________________________________\n",
            "batch_normalization_10 (Batc (None, 30, 30, 32)        128       \n",
            "_________________________________________________________________\n",
            "max_pooling2d_10 (MaxPooling (None, 15, 15, 32)        0         \n",
            "_________________________________________________________________\n",
            "conv2d_11 (Conv2D)           (None, 11, 11, 64)        51264     \n",
            "_________________________________________________________________\n",
            "batch_normalization_11 (Batc (None, 11, 11, 64)        256       \n",
            "_________________________________________________________________\n",
            "max_pooling2d_11 (MaxPooling (None, 5, 5, 64)          0         \n",
            "_________________________________________________________________\n",
            "flatten_5 (Flatten)          (None, 1600)              0         \n",
            "_________________________________________________________________\n",
            "dense_10 (Dense)             (None, 256)               409856    \n",
            "_________________________________________________________________\n",
            "dropout_5 (Dropout)          (None, 256)               0         \n",
            "_________________________________________________________________\n",
            "dense_11 (Dense)             (None, 36)                9252      \n",
            "=================================================================\n",
            "Total params: 471,076\n",
            "Trainable params: 470,884\n",
            "Non-trainable params: 192\n",
            "_________________________________________________________________\n",
            "None\n"
          ],
          "name": "stdout"
        }
      ]
    },
    {
      "cell_type": "markdown",
      "metadata": {
        "id": "p01LjJ9xQXCC"
      },
      "source": [
        "### Saving Checkpoints"
      ]
    },
    {
      "cell_type": "markdown",
      "metadata": {
        "id": "YwiJF-VnRgyT"
      },
      "source": [
        "#### Imports"
      ]
    },
    {
      "cell_type": "code",
      "metadata": {
        "id": "6Cc-cpA8RiFI",
        "colab": {
          "base_uri": "https://localhost:8080/"
        },
        "outputId": "df903b37-5760-4a97-eebe-f45687f8a76e"
      },
      "source": [
        "! pip install pyyaml h5py  # Required to save models in HDF5 format"
      ],
      "execution_count": null,
      "outputs": [
        {
          "output_type": "stream",
          "text": [
            "Requirement already satisfied: pyyaml in /usr/local/lib/python3.7/dist-packages (3.13)\n",
            "Requirement already satisfied: h5py in /usr/local/lib/python3.7/dist-packages (3.1.0)\n",
            "Requirement already satisfied: numpy>=1.14.5 in /usr/local/lib/python3.7/dist-packages (from h5py) (1.19.5)\n",
            "Requirement already satisfied: cached-property in /usr/local/lib/python3.7/dist-packages (from h5py) (1.5.2)\n"
          ],
          "name": "stdout"
        }
      ]
    },
    {
      "cell_type": "code",
      "metadata": {
        "id": "wCg1L42mRm0d"
      },
      "source": [
        "import tensorflow as tf"
      ],
      "execution_count": null,
      "outputs": []
    },
    {
      "cell_type": "markdown",
      "metadata": {
        "id": "NnldeIfHR5RD"
      },
      "source": [
        "#### Checkpoint callback"
      ]
    },
    {
      "cell_type": "code",
      "metadata": {
        "id": "5WcQb1-lQZqD"
      },
      "source": [
        "checkpoint_path = \"training/cp.ckpt\"\n",
        "checkpoint_dir = os.path.dirname(checkpoint_path)\n",
        "\n",
        "model_checkpoint_callback = tf.keras.callbacks.ModelCheckpoint(\n",
        "    filepath=checkpoint_path,\n",
        "    save_weights_only=True,\n",
        "    monitor='accuracy',\n",
        "    mode='max',\n",
        "    save_best_only=True)"
      ],
      "execution_count": null,
      "outputs": []
    },
    {
      "cell_type": "markdown",
      "metadata": {
        "id": "6wMXvrM9Uc3q"
      },
      "source": [
        "#### Early Stopping Callback"
      ]
    },
    {
      "cell_type": "code",
      "metadata": {
        "id": "lBxZul9GUhlH"
      },
      "source": [
        "early_stop_callback = tf.keras.callbacks.EarlyStopping(monitor='loss', patience=5)"
      ],
      "execution_count": null,
      "outputs": []
    },
    {
      "cell_type": "markdown",
      "metadata": {
        "id": "Hnuvpz63asZG"
      },
      "source": [
        "## Hypertuning the model"
      ]
    },
    {
      "cell_type": "markdown",
      "metadata": {
        "id": "nun2Xa8gT0pm"
      },
      "source": [
        "## Fitting the Model"
      ]
    },
    {
      "cell_type": "code",
      "metadata": {
        "colab": {
          "base_uri": "https://localhost:8080/"
        },
        "id": "96G8YjCwT2YR",
        "outputId": "b4d70a5a-3828-4661-99b6-e0af496bd570"
      },
      "source": [
        "history = model4.fit(\n",
        "        x=train_generator,\n",
        "        validation_data=validation_generator,\n",
        "        steps_per_epoch=train_generator.samples // batch_size,  \n",
        "        validation_steps=validation_generator.samples // batch_size,\n",
        "        callbacks=[model_checkpoint_callback, early_stop_callback],\n",
        "        epochs=50)"
      ],
      "execution_count": null,
      "outputs": [
        {
          "output_type": "stream",
          "text": [
            "Epoch 1/50\n",
            "306/306 [==============================] - 39s 123ms/step - loss: 3.6322 - accuracy: 0.0719 - val_loss: 4.1263 - val_accuracy: 0.0614\n",
            "Epoch 2/50\n",
            "306/306 [==============================] - 40s 130ms/step - loss: 2.8994 - accuracy: 0.1961 - val_loss: 2.7727 - val_accuracy: 0.2345\n",
            "Epoch 3/50\n",
            "306/306 [==============================] - 39s 127ms/step - loss: 2.4466 - accuracy: 0.3070 - val_loss: 2.3724 - val_accuracy: 0.3301\n",
            "Epoch 4/50\n",
            "306/306 [==============================] - 40s 131ms/step - loss: 2.0205 - accuracy: 0.4116 - val_loss: 1.6258 - val_accuracy: 0.5284\n",
            "Epoch 5/50\n",
            "306/306 [==============================] - 46s 150ms/step - loss: 1.7587 - accuracy: 0.4812 - val_loss: 1.5815 - val_accuracy: 0.5306\n",
            "Epoch 6/50\n",
            "306/306 [==============================] - 38s 124ms/step - loss: 1.5579 - accuracy: 0.5349 - val_loss: 1.5801 - val_accuracy: 0.5269\n",
            "Epoch 7/50\n",
            "306/306 [==============================] - 42s 136ms/step - loss: 1.4081 - accuracy: 0.5785 - val_loss: 1.4617 - val_accuracy: 0.5710\n",
            "Epoch 8/50\n",
            "306/306 [==============================] - 41s 133ms/step - loss: 1.3017 - accuracy: 0.6083 - val_loss: 1.1858 - val_accuracy: 0.6496\n",
            "Epoch 9/50\n",
            "306/306 [==============================] - 40s 132ms/step - loss: 1.2074 - accuracy: 0.6383 - val_loss: 1.7257 - val_accuracy: 0.5133\n",
            "Epoch 10/50\n",
            "306/306 [==============================] - 38s 123ms/step - loss: 1.1412 - accuracy: 0.6518 - val_loss: 1.2460 - val_accuracy: 0.6220\n",
            "Epoch 11/50\n",
            "306/306 [==============================] - 40s 130ms/step - loss: 1.0714 - accuracy: 0.6736 - val_loss: 0.9502 - val_accuracy: 0.7152\n",
            "Epoch 12/50\n",
            "306/306 [==============================] - 38s 124ms/step - loss: 1.0426 - accuracy: 0.6806 - val_loss: 1.0968 - val_accuracy: 0.6693\n",
            "Epoch 13/50\n",
            "306/306 [==============================] - 39s 127ms/step - loss: 0.9754 - accuracy: 0.7051 - val_loss: 0.8667 - val_accuracy: 0.7416\n",
            "Epoch 14/50\n",
            "306/306 [==============================] - 39s 128ms/step - loss: 0.9566 - accuracy: 0.7125 - val_loss: 0.9513 - val_accuracy: 0.7074\n",
            "Epoch 15/50\n",
            "306/306 [==============================] - 37s 121ms/step - loss: 0.9238 - accuracy: 0.7195 - val_loss: 0.8333 - val_accuracy: 0.7453\n",
            "Epoch 16/50\n",
            "306/306 [==============================] - 39s 128ms/step - loss: 0.8908 - accuracy: 0.7278 - val_loss: 0.7727 - val_accuracy: 0.7669\n",
            "Epoch 17/50\n",
            "306/306 [==============================] - 39s 127ms/step - loss: 0.8579 - accuracy: 0.7345 - val_loss: 0.7913 - val_accuracy: 0.7611\n",
            "Epoch 18/50\n",
            "306/306 [==============================] - 37s 121ms/step - loss: 0.8482 - accuracy: 0.7393 - val_loss: 0.7487 - val_accuracy: 0.7767\n",
            "Epoch 19/50\n",
            "306/306 [==============================] - 39s 126ms/step - loss: 0.8255 - accuracy: 0.7478 - val_loss: 0.8122 - val_accuracy: 0.7519\n",
            "Epoch 20/50\n",
            "306/306 [==============================] - 38s 124ms/step - loss: 0.8106 - accuracy: 0.7523 - val_loss: 0.6760 - val_accuracy: 0.7948\n",
            "Epoch 21/50\n",
            "306/306 [==============================] - 37s 122ms/step - loss: 0.7985 - accuracy: 0.7573 - val_loss: 0.7559 - val_accuracy: 0.7637\n",
            "Epoch 22/50\n",
            "306/306 [==============================] - 39s 129ms/step - loss: 0.7740 - accuracy: 0.7628 - val_loss: 0.6888 - val_accuracy: 0.7925\n",
            "Epoch 23/50\n",
            "306/306 [==============================] - 37s 121ms/step - loss: 0.7662 - accuracy: 0.7657 - val_loss: 0.7272 - val_accuracy: 0.7779\n",
            "Epoch 24/50\n",
            "306/306 [==============================] - 39s 129ms/step - loss: 0.7476 - accuracy: 0.7723 - val_loss: 0.6431 - val_accuracy: 0.8052\n",
            "Epoch 25/50\n",
            "306/306 [==============================] - 39s 126ms/step - loss: 0.7393 - accuracy: 0.7737 - val_loss: 0.6247 - val_accuracy: 0.8057\n",
            "Epoch 26/50\n",
            "306/306 [==============================] - 38s 123ms/step - loss: 0.7235 - accuracy: 0.7789 - val_loss: 0.6559 - val_accuracy: 0.7998\n",
            "Epoch 27/50\n",
            "306/306 [==============================] - 38s 123ms/step - loss: 0.7242 - accuracy: 0.7789 - val_loss: 0.6363 - val_accuracy: 0.8085\n",
            "Epoch 28/50\n",
            "306/306 [==============================] - 39s 128ms/step - loss: 0.6975 - accuracy: 0.7844 - val_loss: 0.6578 - val_accuracy: 0.7927\n",
            "Epoch 29/50\n",
            "306/306 [==============================] - 37s 120ms/step - loss: 0.6852 - accuracy: 0.7891 - val_loss: 0.6285 - val_accuracy: 0.8021\n",
            "Epoch 30/50\n",
            "306/306 [==============================] - 39s 129ms/step - loss: 0.6830 - accuracy: 0.7898 - val_loss: 0.6239 - val_accuracy: 0.8076\n",
            "Epoch 31/50\n",
            "306/306 [==============================] - 37s 122ms/step - loss: 0.6761 - accuracy: 0.7924 - val_loss: 0.5676 - val_accuracy: 0.8269\n",
            "Epoch 32/50\n",
            "306/306 [==============================] - 38s 125ms/step - loss: 0.6637 - accuracy: 0.7943 - val_loss: 0.5872 - val_accuracy: 0.8171\n",
            "Epoch 33/50\n",
            "306/306 [==============================] - 38s 125ms/step - loss: 0.6682 - accuracy: 0.7909 - val_loss: 0.5514 - val_accuracy: 0.8313\n",
            "Epoch 34/50\n",
            "306/306 [==============================] - 40s 129ms/step - loss: 0.6447 - accuracy: 0.8006 - val_loss: 0.6065 - val_accuracy: 0.8100\n",
            "Epoch 35/50\n",
            "306/306 [==============================] - 37s 120ms/step - loss: 0.6481 - accuracy: 0.8015 - val_loss: 0.7089 - val_accuracy: 0.7813\n",
            "Epoch 36/50\n",
            "306/306 [==============================] - 39s 128ms/step - loss: 0.6429 - accuracy: 0.8038 - val_loss: 0.6099 - val_accuracy: 0.8164\n",
            "Epoch 37/50\n",
            "306/306 [==============================] - 37s 121ms/step - loss: 0.6372 - accuracy: 0.8029 - val_loss: 0.6789 - val_accuracy: 0.7886\n",
            "Epoch 38/50\n",
            "306/306 [==============================] - 39s 128ms/step - loss: 0.6423 - accuracy: 0.8020 - val_loss: 0.4992 - val_accuracy: 0.8463\n",
            "Epoch 39/50\n",
            "306/306 [==============================] - 38s 125ms/step - loss: 0.6198 - accuracy: 0.8099 - val_loss: 0.5388 - val_accuracy: 0.8364\n",
            "Epoch 40/50\n",
            "190/306 [=================>............] - ETA: 12s - loss: 0.6247 - accuracy: 0.8075"
          ],
          "name": "stdout"
        }
      ]
    },
    {
      "cell_type": "code",
      "metadata": {
        "id": "p15ob2V1w9jp"
      },
      "source": [
        ""
      ],
      "execution_count": null,
      "outputs": []
    }
  ]
}
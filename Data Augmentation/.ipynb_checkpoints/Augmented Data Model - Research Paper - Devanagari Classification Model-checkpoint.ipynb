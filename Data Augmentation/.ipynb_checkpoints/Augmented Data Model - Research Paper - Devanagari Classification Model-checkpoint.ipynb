{
 "cells": [
  {
   "cell_type": "markdown",
   "id": "3a7d8bf3-e6aa-437f-9a40-6d6274f2e331",
   "metadata": {},
   "source": [
    "# Running the Same Model Architecture but with Augmented Data (see FGSM on Devanagari Letters file)"
   ]
  },
  {
   "cell_type": "markdown",
   "id": "375ea276-d81a-47f0-a532-0ec34235f4e8",
   "metadata": {},
   "source": [
    "## Paper Link: [Deep Learning Based Large Scale Handwritten Devanagari Character Recognition](http://ashokpant.github.io/publications/ashok_2015_deep.pdf)"
   ]
  },
  {
   "cell_type": "code",
   "execution_count": 7,
   "id": "3c77729c-57eb-4f1e-accd-2965004d6373",
   "metadata": {},
   "outputs": [],
   "source": [
    "import os\n",
    "from PIL import Image\n",
    "import matplotlib.pyplot as plt\n",
    "import numpy as np\n",
    "import tensorflow as tf\n",
    "from tensorflow import keras\n",
    "from keras import layers, metrics\n",
    "from keras.models import Sequential\n",
    "from keras.layers import Conv2D, MaxPooling2D, BatchNormalization, Activation, Dropout, Flatten, Dense\n",
    "from keras.callbacks import EarlyStopping\n",
    "from keras.utils import image_dataset_from_directory"
   ]
  },
  {
   "cell_type": "markdown",
   "id": "27289e3d-8f09-4db9-be8a-925f53e08840",
   "metadata": {},
   "source": [
    "## Dataset Path"
   ]
  },
  {
   "cell_type": "code",
   "execution_count": 3,
   "id": "9ee9fb68-46d8-46ea-9e9a-e99815edab9f",
   "metadata": {},
   "outputs": [],
   "source": [
    "global_ds_path = \"E:/Large Datasets/Devanagari Letters/DevanagariHandwrittenCharacterDataset/\""
   ]
  },
  {
   "cell_type": "markdown",
   "id": "4ab08d86-2797-45bc-9ea9-0591608681e0",
   "metadata": {},
   "source": [
    "## Dataset Information (**Original**)\n",
    "1. Number of Images: *92,000 >>> 72,000 images in consonant datasest and 20,000 images in numeral dataset*\n",
    "2. Number of Training Images: *78,200*\n",
    "3. Number of Testing Images: *13,800*\n",
    "4. Number of Classes: *46*\n",
    "5. Number of Images Per Class *(Training: 1,700)*\n",
    "6. Number of Images Per Class *(Testing: 300)*"
   ]
  },
  {
   "cell_type": "markdown",
   "id": "b0b2c0ed-2c0d-46ae-a9a0-67d66f69eb0b",
   "metadata": {},
   "source": [
    "## Augmented Dataset Information\n",
    "1. Number of Images: `115,460`\n",
    "2. Number of Training Images: `101,660`\n",
    "3. Number of Testing Images: `13,800`\n",
    "4. Number of Classes: `46`\n",
    "5. Number of Images Per Class `(Training: 2,210)`\n",
    "6. Number of Images Per Class `(Testing: 300)`"
   ]
  },
  {
   "cell_type": "markdown",
   "id": "71c434c8-bdf4-440c-a2b5-078ee8f84f49",
   "metadata": {},
   "source": [
    "## Image Information\n",
    "- Every image is of size `(32 x 32)`\n",
    "- Every image is grayscale `(0 - 255)`"
   ]
  },
  {
   "cell_type": "code",
   "execution_count": 5,
   "id": "d60475c9-b928-4246-9b00-6ffc7abe6e03",
   "metadata": {},
   "outputs": [
    {
     "data": {
      "image/png": "[encoded data removed]",
      "text/plain": [
       "<Figure size 640x480 with 1 Axes>"
      ]
     },
     "metadata": {},
     "output_type": "display_data"
    }
   ],
   "source": [
    "# showing a sample image\n",
    "smp_img = Image.open(global_ds_path + 'Train/character_1_ka/1340.png')\n",
    "plt.imshow(np.asarray(smp_img), cmap='gray', vmin=0, vmax=255)\n",
    "plt.show()"
   ]
  },
  {
   "cell_type": "markdown",
   "id": "fc4cac3e-1b8c-4a70-8088-cfbd26ea8830",
   "metadata": {},
   "source": [
    "## Training and Validation"
   ]
  },
  {
   "cell_type": "code",
   "execution_count": 6,
   "id": "4dc3cebb-c03d-4f24-9594-8f9e2fcbc658",
   "metadata": {},
   "outputs": [],
   "source": [
    "batch_size = 200\n",
    "img_height = img_width = 32"
   ]
  },
  {
   "cell_type": "markdown",
   "id": "b90dc905-f36c-4eea-a574-6aefd04610fa",
   "metadata": {},
   "source": [
    "### Splitting Data into Training and Validation Sets"
   ]
  },
  {
   "cell_type": "code",
   "execution_count": 8,
   "id": "11b39c0d-f2d3-4cbc-b9fb-b0a2f42f47aa",
   "metadata": {},
   "outputs": [
    {
     "name": "stdout",
     "output_type": "stream",
     "text": [
      "Found 101660 files belonging to 46 classes.\n",
      "Using 81328 files for training.\n"
     ]
    }
   ],
   "source": [
    "train_ds = image_dataset_from_directory(\n",
    "                                        directory=global_ds_path + \"Train\",\n",
    "                                        labels='inferred',\n",
    "                                        label_mode='categorical',\n",
    "                                        seed=100,\n",
    "                                        validation_split=0.2,\n",
    "                                        subset='training',\n",
    "                                        color_mode='grayscale',\n",
    "                                        batch_size=batch_size,\n",
    "                                        image_size=(img_height, img_width)\n",
    "                                        )"
   ]
  },
  {
   "cell_type": "code",
   "execution_count": 9,
   "id": "d3512075-e178-4d99-9088-c396031f72f8",
   "metadata": {},
   "outputs": [
    {
     "name": "stdout",
     "output_type": "stream",
     "text": [
      "Found 101660 files belonging to 46 classes.\n",
      "Using 20332 files for validation.\n"
     ]
    }
   ],
   "source": [
    "val_ds = image_dataset_from_directory(\n",
    "                                        directory=global_ds_path + \"Train\",\n",
    "                                        labels='inferred',\n",
    "                                        label_mode='categorical',\n",
    "                                        seed=100,\n",
    "                                        validation_split=0.2,\n",
    "                                        subset='validation',\n",
    "                                        color_mode='grayscale',\n",
    "                                        batch_size=batch_size,\n",
    "                                        image_size=(img_height, img_width)\n",
    "                                    )"
   ]
  },
  {
   "cell_type": "markdown",
   "id": "2657e937-c5e8-49a1-b191-feb83d2400e7",
   "metadata": {},
   "source": [
    "### Configuration for Faster Performance During Training"
   ]
  },
  {
   "cell_type": "code",
   "execution_count": 10,
   "id": "c06aa870-bc54-4127-aedd-39b3c2e16400",
   "metadata": {},
   "outputs": [],
   "source": [
    "AUTOTUNE = tf.data.AUTOTUNE\n",
    "\n",
    "train_ds = train_ds.cache().shuffle(1000).prefetch(buffer_size=AUTOTUNE)\n",
    "val_ds = val_ds.cache().prefetch(buffer_size=AUTOTUNE)"
   ]
  },
  {
   "cell_type": "markdown",
   "id": "b6a33813-8f8f-4d1a-bb65-12d76fb23100",
   "metadata": {},
   "source": [
    "### The Model"
   ]
  },
  {
   "cell_type": "code",
   "execution_count": 13,
   "id": "0221781e-77e5-4ed5-8b1e-b3fc7bdba9ce",
   "metadata": {},
   "outputs": [],
   "source": [
    "def init_model():\n",
    "    model = Sequential()\n",
    "    model.add(layers.Rescaling(1./255, input_shape=(img_height, img_width, 1)))  # normalizing pixel values\n",
    "    model.add(Conv2D(filters=32, kernel_size=(5, 5), activation='relu', name='conv2D_1'))  # first Conv\n",
    "    model.add(BatchNormalization())\n",
    "    model.add(MaxPooling2D(pool_size=(2, 2), strides=2, name='max_pool_1'))  # first Max Pooling\n",
    "    \n",
    "    model.add(Conv2D(filters=64, kernel_size=(5, 5), activation='relu', name='conv2D_2'))  # second Conv\n",
    "    model.add(BatchNormalization())\n",
    "    model.add(MaxPooling2D(pool_size=(2, 2), strides=2, name='max_pool_2'))  # second Max Pooling\n",
    "    \n",
    "    model.add(Dropout(seed=100, rate=0.5))  # ignoring 50% inputs \n",
    "    \n",
    "    model.add(Flatten())  # flattening for following feed forward NN layers\n",
    "    \n",
    "    model.add(Dense(units=128, activation='relu', name='dense_1'))  # first dense\n",
    "    model.add(BatchNormalization()) \n",
    "    \n",
    "    model.add(Dense(units=64, activation='relu', name='dense_2'))  # second dense\n",
    "    model.add(BatchNormalization())\n",
    "    \n",
    "    model.add(Dense(units=46, activation='softmax', name='output'))  # output layer that will predict image class\n",
    "    \n",
    "    model.compile(loss='categorical_crossentropy', optimizer='adam', metrics=['accuracy', metrics.Precision(), metrics.Recall()])\n",
    "\n",
    "    return model"
   ]
  },
  {
   "cell_type": "markdown",
   "id": "b90ff520-95d9-4b45-96bc-223ef705daf4",
   "metadata": {},
   "source": [
    "### Training Using the Model"
   ]
  },
  {
   "cell_type": "code",
   "execution_count": 14,
   "id": "4325f34a-ed77-432e-ab7e-6a2bd63ca024",
   "metadata": {},
   "outputs": [
    {
     "name": "stdout",
     "output_type": "stream",
     "text": [
      "Model: \"sequential_1\"\n",
      "_________________________________________________________________\n",
      " Layer (type)                Output Shape              Param #   \n",
      "=================================================================\n",
      " rescaling_1 (Rescaling)     (None, 32, 32, 1)         0         \n",
      "                                                                 \n",
      " conv2D_1 (Conv2D)           (None, 28, 28, 32)        832       \n",
      "                                                                 \n",
      " batch_normalization_4 (Batc  (None, 28, 28, 32)       128       \n",
      " hNormalization)                                                 \n",
      "                                                                 \n",
      " max_pool_1 (MaxPooling2D)   (None, 14, 14, 32)        0         \n",
      "                                                                 \n",
      " conv2D_2 (Conv2D)           (None, 10, 10, 64)        51264     \n",
      "                                                                 \n",
      " batch_normalization_5 (Batc  (None, 10, 10, 64)       256       \n",
      " hNormalization)                                                 \n",
      "                                                                 \n",
      " max_pool_2 (MaxPooling2D)   (None, 5, 5, 64)          0         \n",
      "                                                                 \n",
      " dropout_1 (Dropout)         (None, 5, 5, 64)          0         \n",
      "                                                                 \n",
      " flatten_1 (Flatten)         (None, 1600)              0         \n",
      "                                                                 \n",
      " dense_1 (Dense)             (None, 128)               204928    \n",
      "                                                                 \n",
      " batch_normalization_6 (Batc  (None, 128)              512       \n",
      " hNormalization)                                                 \n",
      "                                                                 \n",
      " dense_2 (Dense)             (None, 64)                8256      \n",
      "                                                                 \n",
      " batch_normalization_7 (Batc  (None, 64)               256       \n",
      " hNormalization)                                                 \n",
      "                                                                 \n",
      " output (Dense)              (None, 46)                2990      \n",
      "                                                                 \n",
      "=================================================================\n",
      "Total params: 269,422\n",
      "Trainable params: 268,846\n",
      "Non-trainable params: 576\n",
      "_________________________________________________________________\n",
      "None\n"
     ]
    }
   ],
   "source": [
    "model = init_model()\n",
    "print(model.summary())"
   ]
  },
  {
   "cell_type": "code",
   "execution_count": 15,
   "id": "9ee27bb6-d370-4de8-8fc2-ef35931a901e",
   "metadata": {},
   "outputs": [
    {
     "name": "stdout",
     "output_type": "stream",
     "text": [
      "Epoch 1/50\n",
      "407/407 - 78s - loss: 1.2047 - accuracy: 0.6974 - precision: 0.9338 - recall: 0.5144 - val_loss: 1.0425 - val_accuracy: 0.7018 - val_precision: 0.8667 - val_recall: 0.5347 - 78s/epoch - 193ms/step\n",
      "Epoch 2/50\n",
      "407/407 - 19s - loss: 0.3194 - accuracy: 0.9099 - precision: 0.9491 - recall: 0.8717 - val_loss: 0.1722 - val_accuracy: 0.9512 - val_precision: 0.9683 - val_recall: 0.9362 - 19s/epoch - 46ms/step\n",
      "Epoch 3/50\n",
      "407/407 - 19s - loss: 0.2021 - accuracy: 0.9410 - precision: 0.9610 - recall: 0.9232 - val_loss: 0.1230 - val_accuracy: 0.9638 - val_precision: 0.9740 - val_recall: 0.9544 - 19s/epoch - 46ms/step\n",
      "Epoch 4/50\n",
      "407/407 - 19s - loss: 0.1522 - accuracy: 0.9541 - precision: 0.9675 - recall: 0.9425 - val_loss: 0.1003 - val_accuracy: 0.9699 - val_precision: 0.9779 - val_recall: 0.9646 - 19s/epoch - 47ms/step\n",
      "Epoch 5/50\n",
      "407/407 - 20s - loss: 0.1233 - accuracy: 0.9616 - precision: 0.9716 - recall: 0.9531 - val_loss: 0.1000 - val_accuracy: 0.9697 - val_precision: 0.9759 - val_recall: 0.9653 - 20s/epoch - 49ms/step\n",
      "Epoch 6/50\n",
      "407/407 - 21s - loss: 0.1075 - accuracy: 0.9668 - precision: 0.9746 - recall: 0.9601 - val_loss: 0.0872 - val_accuracy: 0.9744 - val_precision: 0.9794 - val_recall: 0.9712 - 21s/epoch - 50ms/step\n",
      "Epoch 7/50\n",
      "407/407 - 21s - loss: 0.0939 - accuracy: 0.9702 - precision: 0.9763 - recall: 0.9650 - val_loss: 0.0837 - val_accuracy: 0.9751 - val_precision: 0.9786 - val_recall: 0.9717 - 21s/epoch - 51ms/step\n",
      "Epoch 8/50\n",
      "407/407 - 20s - loss: 0.0853 - accuracy: 0.9731 - precision: 0.9785 - recall: 0.9682 - val_loss: 0.0750 - val_accuracy: 0.9772 - val_precision: 0.9809 - val_recall: 0.9746 - 20s/epoch - 49ms/step\n",
      "Epoch 9/50\n",
      "407/407 - 20s - loss: 0.0750 - accuracy: 0.9760 - precision: 0.9803 - recall: 0.9721 - val_loss: 0.0818 - val_accuracy: 0.9753 - val_precision: 0.9788 - val_recall: 0.9729 - 20s/epoch - 49ms/step\n",
      "Epoch 10/50\n",
      "407/407 - 21s - loss: 0.0701 - accuracy: 0.9778 - precision: 0.9816 - recall: 0.9746 - val_loss: 0.0695 - val_accuracy: 0.9791 - val_precision: 0.9818 - val_recall: 0.9776 - 21s/epoch - 50ms/step\n",
      "Epoch 11/50\n",
      "407/407 - 20s - loss: 0.0646 - accuracy: 0.9793 - precision: 0.9828 - recall: 0.9760 - val_loss: 0.0674 - val_accuracy: 0.9798 - val_precision: 0.9825 - val_recall: 0.9779 - 20s/epoch - 49ms/step\n",
      "Epoch 12/50\n",
      "407/407 - 20s - loss: 0.0604 - accuracy: 0.9801 - precision: 0.9832 - recall: 0.9772 - val_loss: 0.0691 - val_accuracy: 0.9793 - val_precision: 0.9820 - val_recall: 0.9772 - 20s/epoch - 48ms/step\n",
      "Epoch 13/50\n",
      "407/407 - 20s - loss: 0.0562 - accuracy: 0.9815 - precision: 0.9841 - recall: 0.9793 - val_loss: 0.0718 - val_accuracy: 0.9781 - val_precision: 0.9815 - val_recall: 0.9758 - 20s/epoch - 48ms/step\n",
      "Epoch 14/50\n",
      "407/407 - 20s - loss: 0.0522 - accuracy: 0.9824 - precision: 0.9846 - recall: 0.9802 - val_loss: 0.0699 - val_accuracy: 0.9792 - val_precision: 0.9818 - val_recall: 0.9773 - 20s/epoch - 48ms/step\n",
      "Epoch 15/50\n",
      "407/407 - 20s - loss: 0.0482 - accuracy: 0.9838 - precision: 0.9861 - recall: 0.9818 - val_loss: 0.0751 - val_accuracy: 0.9773 - val_precision: 0.9798 - val_recall: 0.9759 - 20s/epoch - 50ms/step\n",
      "Epoch 16/50\n",
      "407/407 - 20s - loss: 0.0494 - accuracy: 0.9838 - precision: 0.9860 - recall: 0.9818 - val_loss: 0.0646 - val_accuracy: 0.9821 - val_precision: 0.9839 - val_recall: 0.9811 - 20s/epoch - 48ms/step\n",
      "Epoch 17/50\n",
      "407/407 - 20s - loss: 0.0449 - accuracy: 0.9855 - precision: 0.9873 - recall: 0.9838 - val_loss: 0.0584 - val_accuracy: 0.9823 - val_precision: 0.9841 - val_recall: 0.9806 - 20s/epoch - 49ms/step\n",
      "Epoch 18/50\n",
      "407/407 - 20s - loss: 0.0420 - accuracy: 0.9857 - precision: 0.9872 - recall: 0.9843 - val_loss: 0.0596 - val_accuracy: 0.9824 - val_precision: 0.9841 - val_recall: 0.9809 - 20s/epoch - 50ms/step\n",
      "Epoch 19/50\n",
      "407/407 - 20s - loss: 0.0429 - accuracy: 0.9858 - precision: 0.9877 - recall: 0.9843 - val_loss: 0.0664 - val_accuracy: 0.9799 - val_precision: 0.9822 - val_recall: 0.9788 - 20s/epoch - 49ms/step\n",
      "Epoch 20/50\n",
      "407/407 - 19s - loss: 0.0406 - accuracy: 0.9863 - precision: 0.9878 - recall: 0.9846 - val_loss: 0.0631 - val_accuracy: 0.9826 - val_precision: 0.9845 - val_recall: 0.9814 - 19s/epoch - 47ms/step\n",
      "Epoch 21/50\n",
      "407/407 - 20s - loss: 0.0380 - accuracy: 0.9871 - precision: 0.9885 - recall: 0.9856 - val_loss: 0.0625 - val_accuracy: 0.9819 - val_precision: 0.9834 - val_recall: 0.9810 - 20s/epoch - 50ms/step\n",
      "Epoch 22/50\n",
      "407/407 - 20s - loss: 0.0380 - accuracy: 0.9870 - precision: 0.9883 - recall: 0.9857 - val_loss: 0.0665 - val_accuracy: 0.9809 - val_precision: 0.9830 - val_recall: 0.9795 - 20s/epoch - 50ms/step\n",
      "Epoch 23/50\n",
      "407/407 - 20s - loss: 0.0344 - accuracy: 0.9889 - precision: 0.9901 - recall: 0.9880 - val_loss: 0.0765 - val_accuracy: 0.9792 - val_precision: 0.9810 - val_recall: 0.9781 - 20s/epoch - 49ms/step\n",
      "Epoch 24/50\n",
      "407/407 - 20s - loss: 0.0347 - accuracy: 0.9883 - precision: 0.9894 - recall: 0.9873 - val_loss: 0.0672 - val_accuracy: 0.9808 - val_precision: 0.9824 - val_recall: 0.9799 - 20s/epoch - 48ms/step\n",
      "Epoch 25/50\n",
      "407/407 - 18s - loss: 0.0324 - accuracy: 0.9889 - precision: 0.9900 - recall: 0.9881 - val_loss: 0.0620 - val_accuracy: 0.9810 - val_precision: 0.9824 - val_recall: 0.9799 - 18s/epoch - 44ms/step\n",
      "Epoch 26/50\n",
      "407/407 - 21s - loss: 0.0333 - accuracy: 0.9886 - precision: 0.9897 - recall: 0.9878 - val_loss: 0.0652 - val_accuracy: 0.9814 - val_precision: 0.9827 - val_recall: 0.9805 - 21s/epoch - 51ms/step\n",
      "Epoch 27/50\n",
      "407/407 - 21s - loss: 0.0317 - accuracy: 0.9894 - precision: 0.9905 - recall: 0.9886 - val_loss: 0.0586 - val_accuracy: 0.9832 - val_precision: 0.9849 - val_recall: 0.9822 - 21s/epoch - 51ms/step\n",
      "Epoch 28/50\n",
      "407/407 - 20s - loss: 0.0303 - accuracy: 0.9898 - precision: 0.9907 - recall: 0.9890 - val_loss: 0.0759 - val_accuracy: 0.9794 - val_precision: 0.9816 - val_recall: 0.9784 - 20s/epoch - 48ms/step\n",
      "Epoch 29/50\n",
      "407/407 - 19s - loss: 0.0305 - accuracy: 0.9895 - precision: 0.9905 - recall: 0.9887 - val_loss: 0.0644 - val_accuracy: 0.9814 - val_precision: 0.9831 - val_recall: 0.9805 - 19s/epoch - 46ms/step\n",
      "Epoch 30/50\n",
      "407/407 - 19s - loss: 0.0308 - accuracy: 0.9895 - precision: 0.9904 - recall: 0.9888 - val_loss: 0.0566 - val_accuracy: 0.9846 - val_precision: 0.9856 - val_recall: 0.9838 - 19s/epoch - 47ms/step\n",
      "Epoch 31/50\n",
      "407/407 - 20s - loss: 0.0284 - accuracy: 0.9903 - precision: 0.9912 - recall: 0.9897 - val_loss: 0.0628 - val_accuracy: 0.9828 - val_precision: 0.9841 - val_recall: 0.9823 - 20s/epoch - 48ms/step\n",
      "Epoch 32/50\n",
      "407/407 - 20s - loss: 0.0265 - accuracy: 0.9910 - precision: 0.9917 - recall: 0.9904 - val_loss: 0.0549 - val_accuracy: 0.9853 - val_precision: 0.9860 - val_recall: 0.9846 - 20s/epoch - 48ms/step\n",
      "Epoch 33/50\n",
      "407/407 - 19s - loss: 0.0266 - accuracy: 0.9908 - precision: 0.9916 - recall: 0.9900 - val_loss: 0.0578 - val_accuracy: 0.9834 - val_precision: 0.9846 - val_recall: 0.9825 - 19s/epoch - 48ms/step\n",
      "Epoch 34/50\n",
      "407/407 - 19s - loss: 0.0268 - accuracy: 0.9906 - precision: 0.9913 - recall: 0.9900 - val_loss: 0.0543 - val_accuracy: 0.9847 - val_precision: 0.9856 - val_recall: 0.9838 - 19s/epoch - 47ms/step\n",
      "Epoch 35/50\n",
      "407/407 - 19s - loss: 0.0276 - accuracy: 0.9907 - precision: 0.9916 - recall: 0.9903 - val_loss: 0.0562 - val_accuracy: 0.9843 - val_precision: 0.9857 - val_recall: 0.9835 - 19s/epoch - 47ms/step\n",
      "Epoch 36/50\n",
      "407/407 - 20s - loss: 0.0246 - accuracy: 0.9916 - precision: 0.9923 - recall: 0.9908 - val_loss: 0.0590 - val_accuracy: 0.9844 - val_precision: 0.9855 - val_recall: 0.9835 - 20s/epoch - 49ms/step\n",
      "Epoch 37/50\n",
      "407/407 - 21s - loss: 0.0234 - accuracy: 0.9923 - precision: 0.9929 - recall: 0.9919 - val_loss: 0.0643 - val_accuracy: 0.9831 - val_precision: 0.9844 - val_recall: 0.9830 - 21s/epoch - 51ms/step\n",
      "Epoch 38/50\n",
      "407/407 - 18s - loss: 0.0231 - accuracy: 0.9920 - precision: 0.9925 - recall: 0.9916 - val_loss: 0.0569 - val_accuracy: 0.9853 - val_precision: 0.9861 - val_recall: 0.9844 - 18s/epoch - 45ms/step\n",
      "Epoch 39/50\n",
      "407/407 - 20s - loss: 0.0229 - accuracy: 0.9921 - precision: 0.9928 - recall: 0.9915 - val_loss: 0.0633 - val_accuracy: 0.9844 - val_precision: 0.9855 - val_recall: 0.9840 - 20s/epoch - 50ms/step\n",
      "Epoch 40/50\n",
      "407/407 - 19s - loss: 0.0219 - accuracy: 0.9924 - precision: 0.9929 - recall: 0.9917 - val_loss: 0.0530 - val_accuracy: 0.9857 - val_precision: 0.9865 - val_recall: 0.9852 - 19s/epoch - 48ms/step\n",
      "Epoch 41/50\n",
      "407/407 - 21s - loss: 0.0233 - accuracy: 0.9922 - precision: 0.9929 - recall: 0.9917 - val_loss: 0.0650 - val_accuracy: 0.9824 - val_precision: 0.9838 - val_recall: 0.9820 - 21s/epoch - 51ms/step\n",
      "Epoch 42/50\n",
      "407/407 - 20s - loss: 0.0259 - accuracy: 0.9910 - precision: 0.9916 - recall: 0.9904 - val_loss: 0.0658 - val_accuracy: 0.9818 - val_precision: 0.9828 - val_recall: 0.9806 - 20s/epoch - 49ms/step\n",
      "Epoch 43/50\n",
      "407/407 - 20s - loss: 0.0204 - accuracy: 0.9931 - precision: 0.9935 - recall: 0.9927 - val_loss: 0.0513 - val_accuracy: 0.9868 - val_precision: 0.9878 - val_recall: 0.9863 - 20s/epoch - 48ms/step\n",
      "Epoch 44/50\n",
      "407/407 - 21s - loss: 0.0211 - accuracy: 0.9926 - precision: 0.9931 - recall: 0.9922 - val_loss: 0.0578 - val_accuracy: 0.9854 - val_precision: 0.9860 - val_recall: 0.9849 - 21s/epoch - 51ms/step\n",
      "Epoch 45/50\n",
      "407/407 - 20s - loss: 0.0194 - accuracy: 0.9932 - precision: 0.9937 - recall: 0.9929 - val_loss: 0.0602 - val_accuracy: 0.9842 - val_precision: 0.9853 - val_recall: 0.9833 - 20s/epoch - 49ms/step\n",
      "Epoch 46/50\n",
      "407/407 - 20s - loss: 0.0215 - accuracy: 0.9924 - precision: 0.9930 - recall: 0.9918 - val_loss: 0.0537 - val_accuracy: 0.9865 - val_precision: 0.9872 - val_recall: 0.9862 - 20s/epoch - 49ms/step\n",
      "Epoch 47/50\n",
      "407/407 - 20s - loss: 0.0216 - accuracy: 0.9928 - precision: 0.9932 - recall: 0.9923 - val_loss: 0.0554 - val_accuracy: 0.9861 - val_precision: 0.9870 - val_recall: 0.9853 - 20s/epoch - 50ms/step\n",
      "Epoch 48/50\n",
      "407/407 - 20s - loss: 0.0217 - accuracy: 0.9927 - precision: 0.9932 - recall: 0.9923 - val_loss: 0.0511 - val_accuracy: 0.9864 - val_precision: 0.9874 - val_recall: 0.9859 - 20s/epoch - 48ms/step\n",
      "Epoch 49/50\n",
      "407/407 - 20s - loss: 0.0201 - accuracy: 0.9929 - precision: 0.9935 - recall: 0.9924 - val_loss: 0.0687 - val_accuracy: 0.9830 - val_precision: 0.9836 - val_recall: 0.9824 - 20s/epoch - 48ms/step\n",
      "Epoch 50/50\n",
      "407/407 - 21s - loss: 0.0212 - accuracy: 0.9926 - precision: 0.9932 - recall: 0.9922 - val_loss: 0.0634 - val_accuracy: 0.9836 - val_precision: 0.9850 - val_recall: 0.9831 - 21s/epoch - 51ms/step\n"
     ]
    },
    {
     "name": "stderr",
     "output_type": "stream",
     "text": [
      "WARNING:absl:Found untraced functions such as _jit_compiled_convolution_op, _jit_compiled_convolution_op while saving (showing 2 of 2). These functions will not be directly callable after loading.\n"
     ]
    },
    {
     "name": "stdout",
     "output_type": "stream",
     "text": [
      "INFO:tensorflow:Assets written to: C:/Users/Neesarg/Projects/Python/Machine Learning/Devanagari Master/Data Augmentation/Model_2\\assets\n"
     ]
    },
    {
     "name": "stderr",
     "output_type": "stream",
     "text": [
      "INFO:tensorflow:Assets written to: C:/Users/Neesarg/Projects/Python/Machine Learning/Devanagari Master/Data Augmentation/Model_2\\assets\n"
     ]
    }
   ],
   "source": [
    "early_stopping_monitor = EarlyStopping(patience=2)  # stop early if there is no improvement in 2 epochs \n",
    "epochs = 50 \n",
    "history = model.fit(train_ds, validation_data=val_ds, epochs=epochs, batch_size=batch_size, verbose=2)\n",
    "model.save(filepath=\"C:/Users/Neesarg/Projects/Python/Machine Learning/Devanagari Master/Data Augmentation/Model_2\")"
   ]
  },
  {
   "cell_type": "markdown",
   "id": "1566f965-02e1-4a45-ac29-ba8eafaf0fa1",
   "metadata": {},
   "source": [
    "### Training and Validation Loss"
   ]
  },
  {
   "cell_type": "code",
   "execution_count": 18,
   "id": "cccdbae3-c2c0-4e7e-a1b2-f760e734ff95",
   "metadata": {},
   "outputs": [
    {
     "data": {
      "image/png": "[encoded data removed]",
      "text/plain": [
       "<Figure size 800x800 with 2 Axes>"
      ]
     },
     "metadata": {},
     "output_type": "display_data"
    }
   ],
   "source": [
    "acc = history.history['accuracy']\n",
    "val_acc = history.history['val_accuracy']\n",
    "\n",
    "loss = history.history['loss']\n",
    "val_loss = history.history['val_loss']\n",
    "\n",
    "epochs_range = range(epochs)\n",
    "\n",
    "plt.figure(figsize=(8, 8))\n",
    "plt.subplot(1, 2, 1)\n",
    "plt.plot(epochs_range, acc, label='Training Accuracy')\n",
    "plt.plot(epochs_range, val_acc, label='Validation Accuracy')\n",
    "plt.legend(loc='lower right')\n",
    "plt.title('Training and Validation Accuracy')\n",
    "\n",
    "plt.subplot(1, 2, 2)\n",
    "plt.plot(epochs_range, loss, label='Training Loss')\n",
    "plt.plot(epochs_range, val_loss, label='Validation Loss')\n",
    "plt.legend(loc='upper right')\n",
    "plt.title('Training and Validation Loss')\n",
    "plt.show()"
   ]
  },
  {
   "cell_type": "markdown",
   "id": "cedff28e-ea7e-4692-a9c1-d74f1744e116",
   "metadata": {},
   "source": [
    "## Testing"
   ]
  },
  {
   "cell_type": "markdown",
   "id": "555c0d2d-0a26-4591-829c-bbb0ea6deee0",
   "metadata": {},
   "source": [
    "### Loading in Test Data"
   ]
  },
  {
   "cell_type": "code",
   "execution_count": 19,
   "id": "70a27c2c-93b1-46f8-a3ff-93d8adbd2880",
   "metadata": {},
   "outputs": [
    {
     "name": "stdout",
     "output_type": "stream",
     "text": [
      "Found 13800 files belonging to 46 classes.\n"
     ]
    }
   ],
   "source": [
    "test_ds = keras.utils.image_dataset_from_directory(\n",
    "                                                    directory=global_ds_path + 'Test',\n",
    "                                                    labels='inferred',\n",
    "                                                    label_mode='categorical',\n",
    "                                                    seed=100,\n",
    "                                                    color_mode='grayscale',\n",
    "                                                    batch_size=batch_size,\n",
    "                                                    image_size=(img_height, img_width)\n",
    "                                                   )"
   ]
  },
  {
   "cell_type": "markdown",
   "id": "a7fd58d1-67ff-43ac-898c-1fbff01f3b20",
   "metadata": {},
   "source": [
    "### Evaluation of the Model on Unseen Test Data"
   ]
  },
  {
   "cell_type": "code",
   "execution_count": 20,
   "id": "69d9b22a-1e9b-4559-a494-2eb1d1534679",
   "metadata": {},
   "outputs": [
    {
     "name": "stdout",
     "output_type": "stream",
     "text": [
      "69/69 - 9s - loss: 0.0556 - accuracy: 0.9878 - precision: 0.9882 - recall: 0.9872 - 9s/epoch - 125ms/step\n",
      "Test loss: 0.0556059367954731\n",
      "Test accuracy: 0.9877536296844482\n",
      "Test F1 Score: 0.9877115977127282\n"
     ]
    }
   ],
   "source": [
    "def f1_score(prec, rec):\n",
    "  return 2 * prec * rec / (prec + rec)\n",
    "  \n",
    "score = model.evaluate(test_ds, batch_size=batch_size, verbose=2)\n",
    "print('Test loss:', score[0])\n",
    "print('Test accuracy:', score[1])\n",
    "\n",
    "print('Test F1 Score:', str(f1_score(score[2], score[3])))"
   ]
  },
  {
   "cell_type": "markdown",
   "id": "8294a371-d7c4-41f3-b1da-44b5941049fa",
   "metadata": {},
   "source": [
    "## Conclusions\n",
    "- The same model produces a slightly lower testing accuracy with augmented data than with original data.\n",
    "    - Original Data Accuracy: 98.88%\n",
    "    - Augmented Data Accuracy: 98.77%\n",
    "- The model parameters may need to change in order to achieve a better testing accuracy.\n",
    "- This is further justified as the validation loss seems to be a little unstable.\n",
    "\n",
    "### Future Actions\n",
    "1. `Hyperparameter Tuning`\n",
    "    - begin with `batch size` and tune `learning rate`\n"
   ]
  }
 ],
 "metadata": {
  "kernelspec": {
   "display_name": "Python [conda env:Machine-Learning]",
   "language": "python",
   "name": "conda-env-Machine-Learning-py"
  },
  "language_info": {
   "codemirror_mode": {
    "name": "ipython",
    "version": 3
   },
   "file_extension": ".py",
   "mimetype": "text/x-python",
   "name": "python",
   "nbconvert_exporter": "python",
   "pygments_lexer": "ipython3",
   "version": "3.7.13"
  },
  "toc-showmarkdowntxt": false
 },
 "nbformat": 4,
 "nbformat_minor": 5
}
